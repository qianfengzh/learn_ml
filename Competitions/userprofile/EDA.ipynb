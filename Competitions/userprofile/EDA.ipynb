{
 "cells": [
  {
   "cell_type": "code",
   "execution_count": 1,
   "metadata": {},
   "outputs": [],
   "source": [
    "import os\n",
    "import sys\n",
    "import numpy as np\n",
    "import pandas as pd\n",
    "import matplotlib as mpl\n",
    "import matplotlib.pyplot as plt\n",
    "\n",
    "PROJECT_DIR = '.'\n",
    "DATA_DIR = r'F:\\Git\\data\\userprofile'\n",
    "TRAIN_FILE = 'train_dataset.csv'\n",
    "TEST_FILE = 'test_dataset.csv'\n",
    "OUTPUT_PATH = os.path.join(DATA_DIR, \"result\")\n",
    "\n",
    "TRAIN_DATA = os.path.join(DATA_DIR, TRAIN_FILE)\n",
    "TEST_DATA = os.path.join(DATA_DIR, TEST_FILE)\n"
   ]
  },
  {
   "cell_type": "code",
   "execution_count": 2,
   "metadata": {},
   "outputs": [],
   "source": [
    "def load_data(file, is_train):\n",
    "    columns = ['id','is_real_name','age','is_undegraduate'\n",
    "    ,'is_blacklist','is_4G_ill','net_age_m'\n",
    "    ,'last_pay_m','last_pay_amt','last_6m_avg_consume','m_cost','m_balance','is_arrears','charge_sensitivity','m_social_persons'\n",
    "    ,'is_offen_mall','last_3m_mavg_mall','is_m_WanDa','is_m_Sam','is_m_movies','is_m_tour','is_m_pay_gym'\n",
    "    ,'m_online_shop_app_num','m_express_app_num','m_finance_app_num','m_video_app_num'\n",
    "               ,'m_airplane_app_num','m_train_app_num','m_tour_news_app_num'\n",
    "    ]\n",
    "    if is_train:\n",
    "        columns.append('score')\n",
    "    data = pd.read_csv(file, header=0, names=columns)\n",
    "    return data\n"
   ]
  },
  {
   "cell_type": "code",
   "execution_count": 3,
   "metadata": {},
   "outputs": [
    {
     "data": {
      "text/html": [
       "<div>\n",
       "<style scoped>\n",
       "    .dataframe tbody tr th:only-of-type {\n",
       "        vertical-align: middle;\n",
       "    }\n",
       "\n",
       "    .dataframe tbody tr th {\n",
       "        vertical-align: top;\n",
       "    }\n",
       "\n",
       "    .dataframe thead th {\n",
       "        text-align: right;\n",
       "    }\n",
       "</style>\n",
       "<table border=\"1\" class=\"dataframe\">\n",
       "  <thead>\n",
       "    <tr style=\"text-align: right;\">\n",
       "      <th></th>\n",
       "      <th>id</th>\n",
       "      <th>is_real_name</th>\n",
       "      <th>age</th>\n",
       "      <th>is_undegraduate</th>\n",
       "      <th>is_blacklist</th>\n",
       "      <th>is_4G_ill</th>\n",
       "      <th>net_age_m</th>\n",
       "      <th>last_pay_m</th>\n",
       "      <th>last_pay_amt</th>\n",
       "      <th>last_6m_avg_consume</th>\n",
       "      <th>...</th>\n",
       "      <th>is_m_tour</th>\n",
       "      <th>is_m_pay_gym</th>\n",
       "      <th>m_online_shop_app_num</th>\n",
       "      <th>m_express_app_num</th>\n",
       "      <th>m_finance_app_num</th>\n",
       "      <th>m_video_app_num</th>\n",
       "      <th>m_airplane_app_num</th>\n",
       "      <th>m_train_app_num</th>\n",
       "      <th>m_tour_news_app_num</th>\n",
       "      <th>score</th>\n",
       "    </tr>\n",
       "  </thead>\n",
       "  <tbody>\n",
       "    <tr>\n",
       "      <th>0</th>\n",
       "      <td>a4651f98c82948b186bdcdc8108381b4</td>\n",
       "      <td>1</td>\n",
       "      <td>44</td>\n",
       "      <td>0</td>\n",
       "      <td>0</td>\n",
       "      <td>0</td>\n",
       "      <td>186</td>\n",
       "      <td>1</td>\n",
       "      <td>99.80</td>\n",
       "      <td>163.86</td>\n",
       "      <td>...</td>\n",
       "      <td>1</td>\n",
       "      <td>1</td>\n",
       "      <td>713</td>\n",
       "      <td>0</td>\n",
       "      <td>2740</td>\n",
       "      <td>7145</td>\n",
       "      <td>0</td>\n",
       "      <td>0</td>\n",
       "      <td>30</td>\n",
       "      <td>664</td>\n",
       "    </tr>\n",
       "    <tr>\n",
       "      <th>1</th>\n",
       "      <td>aeb10247db4e4d67b2550bbc42ff9827</td>\n",
       "      <td>1</td>\n",
       "      <td>18</td>\n",
       "      <td>0</td>\n",
       "      <td>0</td>\n",
       "      <td>1</td>\n",
       "      <td>5</td>\n",
       "      <td>1</td>\n",
       "      <td>29.94</td>\n",
       "      <td>153.28</td>\n",
       "      <td>...</td>\n",
       "      <td>0</td>\n",
       "      <td>0</td>\n",
       "      <td>414</td>\n",
       "      <td>0</td>\n",
       "      <td>2731</td>\n",
       "      <td>44862</td>\n",
       "      <td>0</td>\n",
       "      <td>0</td>\n",
       "      <td>0</td>\n",
       "      <td>530</td>\n",
       "    </tr>\n",
       "    <tr>\n",
       "      <th>2</th>\n",
       "      <td>5af23a1e0e77410abb25e9a7eee510aa</td>\n",
       "      <td>1</td>\n",
       "      <td>47</td>\n",
       "      <td>0</td>\n",
       "      <td>0</td>\n",
       "      <td>0</td>\n",
       "      <td>145</td>\n",
       "      <td>1</td>\n",
       "      <td>49.90</td>\n",
       "      <td>109.64</td>\n",
       "      <td>...</td>\n",
       "      <td>0</td>\n",
       "      <td>0</td>\n",
       "      <td>3391</td>\n",
       "      <td>0</td>\n",
       "      <td>0</td>\n",
       "      <td>4804</td>\n",
       "      <td>0</td>\n",
       "      <td>0</td>\n",
       "      <td>1</td>\n",
       "      <td>643</td>\n",
       "    </tr>\n",
       "    <tr>\n",
       "      <th>3</th>\n",
       "      <td>43c64379d3c24a15b8478851b22049e4</td>\n",
       "      <td>1</td>\n",
       "      <td>55</td>\n",
       "      <td>0</td>\n",
       "      <td>0</td>\n",
       "      <td>0</td>\n",
       "      <td>234</td>\n",
       "      <td>1</td>\n",
       "      <td>99.80</td>\n",
       "      <td>92.97</td>\n",
       "      <td>...</td>\n",
       "      <td>1</td>\n",
       "      <td>1</td>\n",
       "      <td>500</td>\n",
       "      <td>0</td>\n",
       "      <td>1931</td>\n",
       "      <td>3141</td>\n",
       "      <td>0</td>\n",
       "      <td>0</td>\n",
       "      <td>5</td>\n",
       "      <td>649</td>\n",
       "    </tr>\n",
       "    <tr>\n",
       "      <th>4</th>\n",
       "      <td>f1687f3b8a6f4910bd0b13eb634056e2</td>\n",
       "      <td>1</td>\n",
       "      <td>40</td>\n",
       "      <td>0</td>\n",
       "      <td>0</td>\n",
       "      <td>0</td>\n",
       "      <td>76</td>\n",
       "      <td>1</td>\n",
       "      <td>49.90</td>\n",
       "      <td>95.47</td>\n",
       "      <td>...</td>\n",
       "      <td>1</td>\n",
       "      <td>0</td>\n",
       "      <td>522</td>\n",
       "      <td>0</td>\n",
       "      <td>64</td>\n",
       "      <td>59</td>\n",
       "      <td>0</td>\n",
       "      <td>0</td>\n",
       "      <td>0</td>\n",
       "      <td>648</td>\n",
       "    </tr>\n",
       "  </tbody>\n",
       "</table>\n",
       "<p>5 rows × 30 columns</p>\n",
       "</div>"
      ],
      "text/plain": [
       "                                 id  is_real_name  age  is_undegraduate  \\\n",
       "0  a4651f98c82948b186bdcdc8108381b4             1   44                0   \n",
       "1  aeb10247db4e4d67b2550bbc42ff9827             1   18                0   \n",
       "2  5af23a1e0e77410abb25e9a7eee510aa             1   47                0   \n",
       "3  43c64379d3c24a15b8478851b22049e4             1   55                0   \n",
       "4  f1687f3b8a6f4910bd0b13eb634056e2             1   40                0   \n",
       "\n",
       "   is_blacklist  is_4G_ill  net_age_m  last_pay_m  last_pay_amt  \\\n",
       "0             0          0        186           1         99.80   \n",
       "1             0          1          5           1         29.94   \n",
       "2             0          0        145           1         49.90   \n",
       "3             0          0        234           1         99.80   \n",
       "4             0          0         76           1         49.90   \n",
       "\n",
       "   last_6m_avg_consume  ...    is_m_tour  is_m_pay_gym  m_online_shop_app_num  \\\n",
       "0               163.86  ...            1             1                    713   \n",
       "1               153.28  ...            0             0                    414   \n",
       "2               109.64  ...            0             0                   3391   \n",
       "3                92.97  ...            1             1                    500   \n",
       "4                95.47  ...            1             0                    522   \n",
       "\n",
       "   m_express_app_num  m_finance_app_num  m_video_app_num  m_airplane_app_num  \\\n",
       "0                  0               2740             7145                   0   \n",
       "1                  0               2731            44862                   0   \n",
       "2                  0                  0             4804                   0   \n",
       "3                  0               1931             3141                   0   \n",
       "4                  0                 64               59                   0   \n",
       "\n",
       "   m_train_app_num  m_tour_news_app_num  score  \n",
       "0                0                   30    664  \n",
       "1                0                    0    530  \n",
       "2                0                    1    643  \n",
       "3                0                    5    649  \n",
       "4                0                    0    648  \n",
       "\n",
       "[5 rows x 30 columns]"
      ]
     },
     "execution_count": 3,
     "metadata": {},
     "output_type": "execute_result"
    }
   ],
   "source": [
    "train_data = load_data(TRAIN_DATA, is_train=1)\n",
    "train_data.head()"
   ]
  },
  {
   "cell_type": "code",
   "execution_count": 12,
   "metadata": {},
   "outputs": [
    {
     "name": "stdout",
     "output_type": "stream",
     "text": [
      "<class 'pandas.core.frame.DataFrame'>\n",
      "RangeIndex: 50000 entries, 0 to 49999\n",
      "Data columns (total 30 columns):\n",
      "id                       50000 non-null object\n",
      "is_real_name             50000 non-null int64\n",
      "age                      50000 non-null int64\n",
      "is_undegraduate          50000 non-null int64\n",
      "is_blacklist             50000 non-null int64\n",
      "is_4G_ill                50000 non-null int64\n",
      "net_age_m                50000 non-null int64\n",
      "last_pay_m               50000 non-null int64\n",
      "last_pay_amt             50000 non-null float64\n",
      "last_6m_avg_consume      50000 non-null float64\n",
      "m_cost                   50000 non-null float64\n",
      "m_balance                50000 non-null int64\n",
      "is_arrears               50000 non-null int64\n",
      "charge_sensitivity       50000 non-null int64\n",
      "m_social_persons         50000 non-null int64\n",
      "is_offen_mall            50000 non-null int64\n",
      "last_3m_mavg_mall        50000 non-null int64\n",
      "is_m_WanDa               50000 non-null int64\n",
      "is_m_Sam                 50000 non-null int64\n",
      "is_m_movies              50000 non-null int64\n",
      "is_m_tour                50000 non-null int64\n",
      "is_m_pay_gym             50000 non-null int64\n",
      "m_online_shop_app_num    50000 non-null int64\n",
      "m_express_app_num        50000 non-null int64\n",
      "m_finance_app_num        50000 non-null int64\n",
      "m_video_app_num          50000 non-null int64\n",
      "m_airplane_app_num       50000 non-null int64\n",
      "m_train_app_num          50000 non-null int64\n",
      "m_tour_news_app_num      50000 non-null int64\n",
      "score                    50000 non-null int64\n",
      "dtypes: float64(3), int64(26), object(1)\n",
      "memory usage: 11.4+ MB\n"
     ]
    }
   ],
   "source": [
    "train_data.info()"
   ]
  },
  {
   "cell_type": "code",
   "execution_count": 13,
   "metadata": {},
   "outputs": [
    {
     "data": {
      "text/html": [
       "<div>\n",
       "<style scoped>\n",
       "    .dataframe tbody tr th:only-of-type {\n",
       "        vertical-align: middle;\n",
       "    }\n",
       "\n",
       "    .dataframe tbody tr th {\n",
       "        vertical-align: top;\n",
       "    }\n",
       "\n",
       "    .dataframe thead th {\n",
       "        text-align: right;\n",
       "    }\n",
       "</style>\n",
       "<table border=\"1\" class=\"dataframe\">\n",
       "  <thead>\n",
       "    <tr style=\"text-align: right;\">\n",
       "      <th></th>\n",
       "      <th>is_real_name</th>\n",
       "      <th>age</th>\n",
       "      <th>is_undegraduate</th>\n",
       "      <th>is_blacklist</th>\n",
       "      <th>is_4G_ill</th>\n",
       "      <th>net_age_m</th>\n",
       "      <th>last_pay_m</th>\n",
       "      <th>last_pay_amt</th>\n",
       "      <th>last_6m_avg_consume</th>\n",
       "      <th>m_cost</th>\n",
       "      <th>...</th>\n",
       "      <th>is_m_tour</th>\n",
       "      <th>is_m_pay_gym</th>\n",
       "      <th>m_online_shop_app_num</th>\n",
       "      <th>m_express_app_num</th>\n",
       "      <th>m_finance_app_num</th>\n",
       "      <th>m_video_app_num</th>\n",
       "      <th>m_airplane_app_num</th>\n",
       "      <th>m_train_app_num</th>\n",
       "      <th>m_tour_news_app_num</th>\n",
       "      <th>score</th>\n",
       "    </tr>\n",
       "  </thead>\n",
       "  <tbody>\n",
       "    <tr>\n",
       "      <th>count</th>\n",
       "      <td>50000.00000</td>\n",
       "      <td>50000.000000</td>\n",
       "      <td>50000.000000</td>\n",
       "      <td>50000.000000</td>\n",
       "      <td>50000.000000</td>\n",
       "      <td>50000.000000</td>\n",
       "      <td>50000.000000</td>\n",
       "      <td>50000.000000</td>\n",
       "      <td>50000.000000</td>\n",
       "      <td>50000.000000</td>\n",
       "      <td>...</td>\n",
       "      <td>50000.00000</td>\n",
       "      <td>50000.00000</td>\n",
       "      <td>50000.000000</td>\n",
       "      <td>50000.000000</td>\n",
       "      <td>50000.00000</td>\n",
       "      <td>5.000000e+04</td>\n",
       "      <td>50000.000000</td>\n",
       "      <td>50000.000000</td>\n",
       "      <td>50000.000000</td>\n",
       "      <td>50000.000000</td>\n",
       "    </tr>\n",
       "    <tr>\n",
       "      <th>mean</th>\n",
       "      <td>0.99022</td>\n",
       "      <td>37.883440</td>\n",
       "      <td>0.003720</td>\n",
       "      <td>0.048800</td>\n",
       "      <td>0.088580</td>\n",
       "      <td>96.448680</td>\n",
       "      <td>0.700100</td>\n",
       "      <td>53.415929</td>\n",
       "      <td>98.732081</td>\n",
       "      <td>99.575130</td>\n",
       "      <td>...</td>\n",
       "      <td>0.47442</td>\n",
       "      <td>0.37412</td>\n",
       "      <td>1148.815260</td>\n",
       "      <td>1.197840</td>\n",
       "      <td>971.50308</td>\n",
       "      <td>3.366519e+03</td>\n",
       "      <td>0.704420</td>\n",
       "      <td>0.553340</td>\n",
       "      <td>19.117120</td>\n",
       "      <td>618.053060</td>\n",
       "    </tr>\n",
       "    <tr>\n",
       "      <th>std</th>\n",
       "      <td>0.09841</td>\n",
       "      <td>11.613239</td>\n",
       "      <td>0.060879</td>\n",
       "      <td>0.215452</td>\n",
       "      <td>0.284139</td>\n",
       "      <td>59.176593</td>\n",
       "      <td>0.458218</td>\n",
       "      <td>61.812022</td>\n",
       "      <td>60.757758</td>\n",
       "      <td>65.327335</td>\n",
       "      <td>...</td>\n",
       "      <td>0.49935</td>\n",
       "      <td>0.48390</td>\n",
       "      <td>3992.957952</td>\n",
       "      <td>44.469584</td>\n",
       "      <td>3006.16776</td>\n",
       "      <td>1.151006e+04</td>\n",
       "      <td>28.721302</td>\n",
       "      <td>7.735913</td>\n",
       "      <td>170.074772</td>\n",
       "      <td>42.443022</td>\n",
       "    </tr>\n",
       "    <tr>\n",
       "      <th>min</th>\n",
       "      <td>0.00000</td>\n",
       "      <td>0.000000</td>\n",
       "      <td>0.000000</td>\n",
       "      <td>0.000000</td>\n",
       "      <td>0.000000</td>\n",
       "      <td>1.000000</td>\n",
       "      <td>0.000000</td>\n",
       "      <td>0.000000</td>\n",
       "      <td>0.000000</td>\n",
       "      <td>0.000000</td>\n",
       "      <td>...</td>\n",
       "      <td>0.00000</td>\n",
       "      <td>0.00000</td>\n",
       "      <td>0.000000</td>\n",
       "      <td>0.000000</td>\n",
       "      <td>0.00000</td>\n",
       "      <td>0.000000e+00</td>\n",
       "      <td>0.000000</td>\n",
       "      <td>0.000000</td>\n",
       "      <td>0.000000</td>\n",
       "      <td>422.000000</td>\n",
       "    </tr>\n",
       "    <tr>\n",
       "      <th>25%</th>\n",
       "      <td>1.00000</td>\n",
       "      <td>30.000000</td>\n",
       "      <td>0.000000</td>\n",
       "      <td>0.000000</td>\n",
       "      <td>0.000000</td>\n",
       "      <td>48.000000</td>\n",
       "      <td>0.000000</td>\n",
       "      <td>0.000000</td>\n",
       "      <td>54.180000</td>\n",
       "      <td>52.675000</td>\n",
       "      <td>...</td>\n",
       "      <td>0.00000</td>\n",
       "      <td>0.00000</td>\n",
       "      <td>18.000000</td>\n",
       "      <td>0.000000</td>\n",
       "      <td>6.00000</td>\n",
       "      <td>1.000000e+01</td>\n",
       "      <td>0.000000</td>\n",
       "      <td>0.000000</td>\n",
       "      <td>0.000000</td>\n",
       "      <td>594.000000</td>\n",
       "    </tr>\n",
       "    <tr>\n",
       "      <th>50%</th>\n",
       "      <td>1.00000</td>\n",
       "      <td>36.000000</td>\n",
       "      <td>0.000000</td>\n",
       "      <td>0.000000</td>\n",
       "      <td>0.000000</td>\n",
       "      <td>94.000000</td>\n",
       "      <td>1.000000</td>\n",
       "      <td>49.900000</td>\n",
       "      <td>89.320000</td>\n",
       "      <td>89.620000</td>\n",
       "      <td>...</td>\n",
       "      <td>0.00000</td>\n",
       "      <td>0.00000</td>\n",
       "      <td>250.000000</td>\n",
       "      <td>0.000000</td>\n",
       "      <td>267.00000</td>\n",
       "      <td>3.350000e+02</td>\n",
       "      <td>0.000000</td>\n",
       "      <td>0.000000</td>\n",
       "      <td>0.000000</td>\n",
       "      <td>627.000000</td>\n",
       "    </tr>\n",
       "    <tr>\n",
       "      <th>75%</th>\n",
       "      <td>1.00000</td>\n",
       "      <td>45.000000</td>\n",
       "      <td>0.000000</td>\n",
       "      <td>0.000000</td>\n",
       "      <td>0.000000</td>\n",
       "      <td>139.000000</td>\n",
       "      <td>1.000000</td>\n",
       "      <td>99.800000</td>\n",
       "      <td>131.160000</td>\n",
       "      <td>133.945000</td>\n",
       "      <td>...</td>\n",
       "      <td>1.00000</td>\n",
       "      <td>1.00000</td>\n",
       "      <td>932.000000</td>\n",
       "      <td>0.000000</td>\n",
       "      <td>1147.25000</td>\n",
       "      <td>2.423250e+03</td>\n",
       "      <td>0.000000</td>\n",
       "      <td>0.000000</td>\n",
       "      <td>4.000000</td>\n",
       "      <td>649.000000</td>\n",
       "    </tr>\n",
       "    <tr>\n",
       "      <th>max</th>\n",
       "      <td>1.00000</td>\n",
       "      <td>111.000000</td>\n",
       "      <td>1.000000</td>\n",
       "      <td>1.000000</td>\n",
       "      <td>1.000000</td>\n",
       "      <td>288.000000</td>\n",
       "      <td>1.000000</td>\n",
       "      <td>998.000000</td>\n",
       "      <td>840.570000</td>\n",
       "      <td>1164.290000</td>\n",
       "      <td>...</td>\n",
       "      <td>1.00000</td>\n",
       "      <td>1.00000</td>\n",
       "      <td>234336.000000</td>\n",
       "      <td>8235.000000</td>\n",
       "      <td>496238.00000</td>\n",
       "      <td>1.382227e+06</td>\n",
       "      <td>5856.000000</td>\n",
       "      <td>474.000000</td>\n",
       "      <td>13965.000000</td>\n",
       "      <td>719.000000</td>\n",
       "    </tr>\n",
       "  </tbody>\n",
       "</table>\n",
       "<p>8 rows × 29 columns</p>\n",
       "</div>"
      ],
      "text/plain": [
       "       is_real_name           age  is_undegraduate  is_blacklist  \\\n",
       "count   50000.00000  50000.000000     50000.000000  50000.000000   \n",
       "mean        0.99022     37.883440         0.003720      0.048800   \n",
       "std         0.09841     11.613239         0.060879      0.215452   \n",
       "min         0.00000      0.000000         0.000000      0.000000   \n",
       "25%         1.00000     30.000000         0.000000      0.000000   \n",
       "50%         1.00000     36.000000         0.000000      0.000000   \n",
       "75%         1.00000     45.000000         0.000000      0.000000   \n",
       "max         1.00000    111.000000         1.000000      1.000000   \n",
       "\n",
       "          is_4G_ill     net_age_m    last_pay_m  last_pay_amt  \\\n",
       "count  50000.000000  50000.000000  50000.000000  50000.000000   \n",
       "mean       0.088580     96.448680      0.700100     53.415929   \n",
       "std        0.284139     59.176593      0.458218     61.812022   \n",
       "min        0.000000      1.000000      0.000000      0.000000   \n",
       "25%        0.000000     48.000000      0.000000      0.000000   \n",
       "50%        0.000000     94.000000      1.000000     49.900000   \n",
       "75%        0.000000    139.000000      1.000000     99.800000   \n",
       "max        1.000000    288.000000      1.000000    998.000000   \n",
       "\n",
       "       last_6m_avg_consume        m_cost      ...         is_m_tour  \\\n",
       "count         50000.000000  50000.000000      ...       50000.00000   \n",
       "mean             98.732081     99.575130      ...           0.47442   \n",
       "std              60.757758     65.327335      ...           0.49935   \n",
       "min               0.000000      0.000000      ...           0.00000   \n",
       "25%              54.180000     52.675000      ...           0.00000   \n",
       "50%              89.320000     89.620000      ...           0.00000   \n",
       "75%             131.160000    133.945000      ...           1.00000   \n",
       "max             840.570000   1164.290000      ...           1.00000   \n",
       "\n",
       "       is_m_pay_gym  m_online_shop_app_num  m_express_app_num  \\\n",
       "count   50000.00000           50000.000000       50000.000000   \n",
       "mean        0.37412            1148.815260           1.197840   \n",
       "std         0.48390            3992.957952          44.469584   \n",
       "min         0.00000               0.000000           0.000000   \n",
       "25%         0.00000              18.000000           0.000000   \n",
       "50%         0.00000             250.000000           0.000000   \n",
       "75%         1.00000             932.000000           0.000000   \n",
       "max         1.00000          234336.000000        8235.000000   \n",
       "\n",
       "       m_finance_app_num  m_video_app_num  m_airplane_app_num  \\\n",
       "count        50000.00000     5.000000e+04        50000.000000   \n",
       "mean           971.50308     3.366519e+03            0.704420   \n",
       "std           3006.16776     1.151006e+04           28.721302   \n",
       "min              0.00000     0.000000e+00            0.000000   \n",
       "25%              6.00000     1.000000e+01            0.000000   \n",
       "50%            267.00000     3.350000e+02            0.000000   \n",
       "75%           1147.25000     2.423250e+03            0.000000   \n",
       "max         496238.00000     1.382227e+06         5856.000000   \n",
       "\n",
       "       m_train_app_num  m_tour_news_app_num         score  \n",
       "count     50000.000000         50000.000000  50000.000000  \n",
       "mean          0.553340            19.117120    618.053060  \n",
       "std           7.735913           170.074772     42.443022  \n",
       "min           0.000000             0.000000    422.000000  \n",
       "25%           0.000000             0.000000    594.000000  \n",
       "50%           0.000000             0.000000    627.000000  \n",
       "75%           0.000000             4.000000    649.000000  \n",
       "max         474.000000         13965.000000    719.000000  \n",
       "\n",
       "[8 rows x 29 columns]"
      ]
     },
     "execution_count": 13,
     "metadata": {},
     "output_type": "execute_result"
    }
   ],
   "source": [
    "train_data.describe()"
   ]
  },
  {
   "cell_type": "code",
   "execution_count": 57,
   "metadata": {},
   "outputs": [
    {
     "data": {
      "text/plain": [
       "<matplotlib.collections.PathCollection at 0x2645c8fee10>"
      ]
     },
     "execution_count": 57,
     "metadata": {},
     "output_type": "execute_result"
    },
    {
     "data": {
      "image/png": "[encoded data removed]",
      "text/plain": [
       "<Figure size 432x288 with 1 Axes>"
      ]
     },
     "metadata": {},
     "output_type": "display_data"
    }
   ],
   "source": [
    "plt.scatter(range(train_data.shape[0]), np.sort(train_data[\"score\"].values))\n",
    "\n",
    "# train_data[\"score\"].plot(kind=\"scatter\")"
   ]
  },
  {
   "cell_type": "code",
   "execution_count": 15,
   "metadata": {},
   "outputs": [
    {
     "name": "stderr",
     "output_type": "stream",
     "text": [
      "E:\\ProgramPrivate\\Anaconda3\\lib\\site-packages\\scipy\\stats\\stats.py:245: RuntimeWarning: The input array could not be properly checked for nan values. nan values will be ignored.\n",
      "  \"values. nan values will be ignored.\", RuntimeWarning)\n"
     ]
    },
    {
     "data": {
      "text/plain": [
       "[(0.9999999999999999, 'score'),\n",
       " (0.7156279425021737, 'm_social_persons'),\n",
       " (0.5659366008114223, 'net_age_m'),\n",
       " (0.5496439291428278, 'last_6m_avg_consume'),\n",
       " (0.5105240502061527, 'm_cost'),\n",
       " (0.34049061774572087, 'last_pay_amt'),\n",
       " (0.34026654389919136, 'm_finance_app_num'),\n",
       " (0.2739790872362088, 'is_m_tour'),\n",
       " (0.27296845111792967, 'm_video_app_num'),\n",
       " (0.26011021645228166, 'm_online_shop_app_num'),\n",
       " (0.24867241254329234, 'last_3m_mavg_mall'),\n",
       " (0.24232038212385115, 'is_m_pay_gym'),\n",
       " (0.22769067169117244, 'm_balance'),\n",
       " (0.20558988229740796, 'last_pay_m'),\n",
       " (0.170841528818388, 'is_m_movies'),\n",
       " (0.133697766240571, 'm_tour_news_app_num'),\n",
       " (0.11956995798684057, 'is_blacklist'),\n",
       " (0.11385350497839136, 'is_offen_mall'),\n",
       " (0.10707746900374818, 'is_arrears'),\n",
       " (0.0990350764953987, 'age'),\n",
       " (0.09523096796006848, 'm_train_app_num'),\n",
       " (0.06419351370319572, 'm_airplane_app_num'),\n",
       " (0.056039327693751015, 'is_m_Sam'),\n",
       " (0.05429289394608231, 'is_m_WanDa'),\n",
       " (0.03828622250841915, 'is_real_name'),\n",
       " (0.026660927362873427, 'is_undegraduate'),\n",
       " (0.02158055115498005, 'm_express_app_num'),\n",
       " (0.0004149516681743063, 'id'),\n",
       " (-0.13119942542711807, 'is_4G_ill'),\n",
       " (-0.22986060361070856, 'charge_sensitivity')]"
      ]
     },
     "execution_count": 15,
     "metadata": {},
     "output_type": "execute_result"
    }
   ],
   "source": [
    "from scipy.stats import spearmanr\n",
    "y = train_data[\"score\"]\n",
    "# y_mean = y.mean()\n",
    "# y = y - y_mean\n",
    "scores = []\n",
    "for c in train_data.columns:\n",
    "    score = spearmanr(y, train_data[c])\n",
    "    scores.append(score[0])\n",
    "sorted(zip(scores, train_data.columns),reverse=True)\n",
    "    "
   ]
  },
  {
   "cell_type": "code",
   "execution_count": 49,
   "metadata": {},
   "outputs": [
    {
     "name": "stderr",
     "output_type": "stream",
     "text": [
      "E:\\ProgramPrivate\\Anaconda3\\lib\\site-packages\\scipy\\stats\\stats.py:245: RuntimeWarning: The input array could not be properly checked for nan values. nan values will be ignored.\n",
      "  \"values. nan values will be ignored.\", RuntimeWarning)\n"
     ]
    },
    {
     "data": {
      "text/plain": [
       "[(0.9999999999999999, 'score'),\n",
       " (0.7156279425021737, 'm_social_persons'),\n",
       " (0.5659366008114223, 'net_age_m'),\n",
       " (0.5496439291428278, 'last_6m_avg_consume'),\n",
       " (0.5105240502061527, 'm_cost'),\n",
       " (0.34049061774572087, 'last_pay_amt'),\n",
       " (0.34026654389919136, 'm_finance_app_num'),\n",
       " (0.3201322528957095, 'sum_m_to_m'),\n",
       " (0.31790114371519723, 'sum_2_to_3'),\n",
       " (0.30780317921098704, 'sum_customer'),\n",
       " (0.2739790872362088, 'is_m_tour'),\n",
       " (0.27296845111792967, 'm_video_app_num'),\n",
       " (0.2713289329219715, 'sum_p_to_p'),\n",
       " (0.26011021645228166, 'm_online_shop_app_num'),\n",
       " (0.24867241254329234, 'last_3m_mavg_mall'),\n",
       " (0.24232038212385115, 'is_m_pay_gym'),\n",
       " (0.22769067169117244, 'm_balance'),\n",
       " (0.2195384650663556, 'sum_1_to_2'),\n",
       " (0.20558988229740796, 'last_pay_m'),\n",
       " (0.170841528818388, 'is_m_movies'),\n",
       " (0.15690123364868042, 'sum_p_certain'),\n",
       " (0.133697766240571, 'm_tour_news_app_num'),\n",
       " (0.11956995798684057, 'is_blacklist'),\n",
       " (0.11385350497839136, 'is_offen_mall'),\n",
       " (0.10707746900374818, 'is_arrears'),\n",
       " (0.0990350764953987, 'age'),\n",
       " (0.09523096796006848, 'm_train_app_num'),\n",
       " (0.08089616642157985, 'sum_0_to_1'),\n",
       " (0.06419351370319572, 'm_airplane_app_num'),\n",
       " (0.056039327693751015, 'is_m_Sam'),\n",
       " (0.05429289394608231, 'is_m_WanDa'),\n",
       " (0.03828622250841915, 'is_real_name'),\n",
       " (0.026660927362873427, 'is_undegraduate'),\n",
       " (0.02158055115498005, 'm_express_app_num'),\n",
       " (0.0004149516681743063, 'id'),\n",
       " (-0.13119942542711807, 'is_4G_ill'),\n",
       " (-0.22986060361070856, 'charge_sensitivity')]"
      ]
     },
     "execution_count": 49,
     "metadata": {},
     "output_type": "execute_result"
    }
   ],
   "source": [
    "tmp_train = train_data.copy()\n",
    "tmp_train[\"sum_2_to_3\"] = tmp_train[\"is_m_tour\"] + tmp_train[\"is_m_pay_gym\"]\n",
    "tmp_train[\"sum_1_to_2\"] = tmp_train[\"is_m_movies\"] + tmp_train[\"is_blacklist\"] + tmp_train[\"is_offen_mall\"] + tmp_train[\"is_arrears\"]\n",
    "tmp_train[\"sum_0_to_1\"] = tmp_train[\"is_m_Sam\"] + tmp_train[\"is_m_WanDa\"] + tmp_train[\"is_real_name\"] + tmp_train[\"is_undegraduate\"]\n",
    "tmp_train[\"sum_m_to_m\"] = tmp_train[\"is_m_Sam\"] + tmp_train[\"is_m_WanDa\"] + tmp_train[\"is_m_tour\"] + tmp_train[\"is_m_pay_gym\"] + tmp_train[\"is_m_movies\"]\n",
    "tmp_train[\"sum_p_to_p\"] = tmp_train[\"is_blacklist\"] + tmp_train[\"is_real_name\"] + tmp_train[\"is_undegraduate\"] - tmp_train[\"is_4G_ill\"]\\\n",
    "     - tmp_train[\"charge_sensitivity\"]\n",
    "tmp_train[\"sum_p_certain\"] = tmp_train[\"is_blacklist\"] + tmp_train[\"is_real_name\"] + tmp_train[\"is_undegraduate\"] + tmp_train[\"is_arrears\"]\n",
    "tmp_train[\"sum_customer\"] = tmp_train[\"is_m_tour\"] + tmp_train[\"is_m_pay_gym\"] + tmp_train[\"is_m_movies\"] + tmp_train[\"is_offen_mall\"]\\\n",
    "     + tmp_train[\"is_m_Sam\"] + tmp_train[\"is_m_WanDa\"]\n",
    "y = tmp_train[\"score\"]\n",
    "scores = []\n",
    "for c in tmp_train.columns:\n",
    "    score = spearmanr(y, tmp_train[c])\n",
    "    scores.append(score[0])\n",
    "sorted(zip(scores, tmp_train.columns),reverse=True)"
   ]
  },
  {
   "cell_type": "code",
   "execution_count": 30,
   "metadata": {},
   "outputs": [
    {
     "data": {
      "text/plain": [
       "0.5665093938842714"
      ]
     },
     "execution_count": 30,
     "metadata": {},
     "output_type": "execute_result"
    }
   ],
   "source": [
    "tmp_train[\"net_age_per_age\"] = (tmp_train[\"net_age_m\"]+1)/(tmp_train[\"age\"]*12+50000)\n",
    "spearmanr(tmp_train[\"net_age_per_age\"], tmp_train[\"score\"])[0]"
   ]
  },
  {
   "cell_type": "code",
   "execution_count": 33,
   "metadata": {},
   "outputs": [
    {
     "data": {
      "text/plain": [
       "0.3391998518272018"
      ]
     },
     "execution_count": 33,
     "metadata": {},
     "output_type": "execute_result"
    }
   ],
   "source": [
    "tmp_train[\"last_pay_amt_per_m\"] = (tmp_train[\"last_pay_amt\"]+1)/(tmp_train[\"last_pay_m\"]+50000)\n",
    "spearmanr(tmp_train[\"last_pay_amt_per_m\"], tmp_train[\"score\"])[0]"
   ]
  },
  {
   "cell_type": "code",
   "execution_count": 34,
   "metadata": {},
   "outputs": [
    {
     "data": {
      "text/plain": [
       "0.2458246059371649"
      ]
     },
     "execution_count": 34,
     "metadata": {},
     "output_type": "execute_result"
    }
   ],
   "source": [
    "tmp_train[\"last_pay_amt_per_m\"] = (tmp_train[\"last_pay_amt\"]+1)/(tmp_train[\"last_6m_avg_consume\"]+50000)\n",
    "spearmanr(tmp_train[\"last_pay_amt_per_m\"], tmp_train[\"score\"])[0]"
   ]
  },
  {
   "cell_type": "code",
   "execution_count": 35,
   "metadata": {},
   "outputs": [
    {
     "data": {
      "text/plain": [
       "0.4164721383245637"
      ]
     },
     "execution_count": 35,
     "metadata": {},
     "output_type": "execute_result"
    }
   ],
   "source": [
    "tmp_train[\"last_pay_amt_per_m\"] = (tmp_train[\"last_pay_m\"])*(tmp_train[\"last_6m_avg_consume\"])\n",
    "spearmanr(tmp_train[\"last_pay_amt_per_m\"], tmp_train[\"score\"])[0]"
   ]
  },
  {
   "cell_type": "code",
   "execution_count": 44,
   "metadata": {},
   "outputs": [
    {
     "data": {
      "text/plain": [
       "0.3690308978517378"
      ]
     },
     "execution_count": 44,
     "metadata": {},
     "output_type": "execute_result"
    }
   ],
   "source": [
    "tmp_train[\"last_pay_amt_per_m\"] = (tmp_train[\"m_cost\"]) * (tmp_train[\"charge_sensitivity\"])\n",
    "spearmanr(tmp_train[\"last_pay_amt_per_m\"], tmp_train[\"score\"])[0]"
   ]
  },
  {
   "cell_type": "code",
   "execution_count": 45,
   "metadata": {},
   "outputs": [
    {
     "data": {
      "text/plain": [
       "0.7298124999693959"
      ]
     },
     "execution_count": 45,
     "metadata": {},
     "output_type": "execute_result"
    }
   ],
   "source": [
    "tmp_train[\"last_pay_amt_per_m\"] = (tmp_train[\"m_cost\"]) * (tmp_train[\"m_social_persons\"])\n",
    "spearmanr(tmp_train[\"last_pay_amt_per_m\"], tmp_train[\"score\"])[0]"
   ]
  },
  {
   "cell_type": "code",
   "execution_count": 15,
   "metadata": {},
   "outputs": [
    {
     "name": "stdout",
     "output_type": "stream",
     "text": [
      "(0.5477378602694198, 0.0)\n",
      "origin pearsonr:  (0.5468931449509599, 0.0)\n",
      "origin pearsonr:  (0.03778044499284771, 2.8938794984083495e-17)\n",
      "=================\n",
      "origin pearsonr:  (0.9999878554095478, 0.0)\n",
      "origin pearsonr:  (0.3134817005931374, 0.0)\n"
     ]
    }
   ],
   "source": [
    "from scipy.stats import pearsonr\n",
    "y = tmp_train[\"score\"]\n",
    "tmp_train[\"net_age_per_age\"] = (tmp_train[\"net_age_m\"]+1)/(tmp_train[\"age\"]*12+50000)\n",
    "print(pearsonr(tmp_train[\"net_age_per_age\"], y))\n",
    "print(\"origin pearsonr: \", pearsonr(tmp_train[\"net_age_m\"], y))\n",
    "print(\"origin pearsonr: \", pearsonr(tmp_train[\"age\"], y))\n",
    "print(\"=================\")\n",
    "print(\"origin pearsonr: \", pearsonr(tmp_train[\"net_age_m\"],tmp_train[\"net_age_per_age\"]))\n",
    "print(\"origin pearsonr: \", pearsonr(tmp_train[\"age\"],tmp_train[\"net_age_per_age\"]))"
   ]
  },
  {
   "cell_type": "code",
   "execution_count": 4,
   "metadata": {},
   "outputs": [
    {
     "name": "stdout",
     "output_type": "stream",
     "text": [
      "origin pearsonr:  (0.5468931449509599, 0.0)\n",
      "origin pearsonr:  (0.49374934653189606, 0.0)\n",
      "origin pearsonr:  (0.07067446306494087, 2.170455375381627e-56)\n"
     ]
    }
   ],
   "source": [
    "from scipy.stats import pearsonr\n",
    "tmp_train = train_data.copy()\n",
    "y = tmp_train[\"score\"]\n",
    "print(\"origin pearsonr: \", pearsonr(tmp_train[\"net_age_m\"], y))\n",
    "print(\"origin pearsonr: \", pearsonr(tmp_train[\"last_6m_avg_consume\"], y))\n",
    "print(\"origin pearsonr: \", pearsonr(tmp_train[\"last_6m_avg_consume\"], tmp_train[\"net_age_m\"]))\n"
   ]
  },
  {
   "cell_type": "code",
   "execution_count": 5,
   "metadata": {},
   "outputs": [
    {
     "name": "stdout",
     "output_type": "stream",
     "text": [
      "origin pearsonr:  (0.33353855826794865, 0.0)\n",
      "origin pearsonr:  (0.08109577935298591, 1.0126988341982146e-73)\n",
      "origin pearsonr:  (0.49374934653189606, 0.0)\n",
      "origin pearsonr:  (0.21525185793583873, 0.0)\n",
      "origin pearsonr:  (0.12891380535915978, 3.139067088332336e-184)\n",
      "------------------------\n",
      "origin pearsonr:  (0.253275274008578, 0.0)\n",
      "origin pearsonr:  (0.9848319537795183, 0.0)\n",
      "origin pearsonr:  (0.19810398629562492, 0.0)\n",
      "origin pearsonr:  (0.03490118227402184, 5.887983743872522e-15)\n"
     ]
    }
   ],
   "source": [
    "tmp_train[\"net_age_per_age\"] = (tmp_train[\"last_pay_amt\"]+tmp_train[\"m_balance\"])-((tmp_train[\"last_6m_avg_consume\"]/6.0)*tmp_train[\"last_pay_m\"])\n",
    "print(\"origin pearsonr: \", pearsonr(tmp_train[\"last_pay_amt\"], y))\n",
    "print(\"origin pearsonr: \", pearsonr(tmp_train[\"m_balance\"], y))\n",
    "print(\"origin pearsonr: \", pearsonr(tmp_train[\"last_6m_avg_consume\"], y))\n",
    "print(\"origin pearsonr: \", pearsonr(tmp_train[\"last_pay_m\"], y))\n",
    "print(\"origin pearsonr: \", pearsonr(tmp_train[\"net_age_per_age\"], y))\n",
    "print(\"------------------------\")\n",
    "print(\"origin pearsonr: \", pearsonr(tmp_train[\"last_pay_amt\"], tmp_train[\"net_age_per_age\"]))\n",
    "print(\"origin pearsonr: \", pearsonr(tmp_train[\"m_balance\"], tmp_train[\"net_age_per_age\"]))\n",
    "print(\"origin pearsonr: \", pearsonr(tmp_train[\"last_6m_avg_consume\"], tmp_train[\"net_age_per_age\"]))\n",
    "print(\"origin pearsonr: \", pearsonr(tmp_train[\"last_pay_m\"], tmp_train[\"net_age_per_age\"]))"
   ]
  },
  {
   "cell_type": "code",
   "execution_count": 7,
   "metadata": {},
   "outputs": [
    {
     "name": "stdout",
     "output_type": "stream",
     "text": [
      "origin pearsonr:  (0.08109577935298591, 1.0126988341982146e-73)\n",
      "origin pearsonr:  (-0.23940043547926773, 0.0)\n",
      "origin pearsonr:  (0.04269015346185605, 1.2979241003392545e-21)\n",
      "origin pearsonr:  (0.9671848011709604, 0.0)\n",
      "origin pearsonr:  (0.11757332144808263, 2.2592755283872033e-153)\n"
     ]
    }
   ],
   "source": [
    "tmp_train[\"net_age_per_age\"] = (tmp_train[\"m_balance\"]*tmp_train[\"charge_sensitivity\"])\n",
    "print(\"origin pearsonr: \", pearsonr(tmp_train[\"m_balance\"], y))\n",
    "print(\"origin pearsonr: \", pearsonr(tmp_train[\"charge_sensitivity\"], y))\n",
    "print(\"origin pearsonr: \", pearsonr(tmp_train[\"net_age_per_age\"], y))\n",
    "print(\"origin pearsonr: \", pearsonr(tmp_train[\"m_balance\"], tmp_train[\"net_age_per_age\"]))\n",
    "print(\"origin pearsonr: \", pearsonr(tmp_train[\"charge_sensitivity\"], tmp_train[\"net_age_per_age\"]))"
   ]
  },
  {
   "cell_type": "code",
   "execution_count": null,
   "metadata": {},
   "outputs": [],
   "source": []
  },
  {
   "cell_type": "code",
   "execution_count": null,
   "metadata": {},
   "outputs": [],
   "source": []
  },
  {
   "cell_type": "code",
   "execution_count": null,
   "metadata": {},
   "outputs": [],
   "source": []
  },
  {
   "cell_type": "code",
   "execution_count": 53,
   "metadata": {},
   "outputs": [
    {
     "data": {
      "text/plain": [
       "(320, 31)"
      ]
     },
     "execution_count": 53,
     "metadata": {},
     "output_type": "execute_result"
    }
   ],
   "source": [
    "# 所有feature 均值均不为0，故所有feature都有值（没有feature仅有一个值）\n",
    "# train_data.mean()\n",
    "train_data[train_data[\"age\"]<=15].shape"
   ]
  },
  {
   "cell_type": "code",
   "execution_count": 23,
   "metadata": {},
   "outputs": [
    {
     "data": {
      "text/plain": [
       "<matplotlib.axes._subplots.AxesSubplot at 0x14b5497dc18>"
      ]
     },
     "execution_count": 23,
     "metadata": {},
     "output_type": "execute_result"
    },
    {
     "data": {
      "image/png": "[encoded data removed]",
      "text/plain": [
       "<Figure size 432x288 with 1 Axes>"
      ]
     },
     "metadata": {},
     "output_type": "display_data"
    }
   ],
   "source": [
    "train_data[\"score\"].plot(kind=\"density\")"
   ]
  },
  {
   "cell_type": "code",
   "execution_count": 40,
   "metadata": {},
   "outputs": [
    {
     "data": {
      "text/plain": [
       "<matplotlib.axes._subplots.AxesSubplot at 0x14b62815278>"
      ]
     },
     "execution_count": 40,
     "metadata": {},
     "output_type": "execute_result"
    },
    {
     "data": {
      "image/png": "[encoded data removed]",
      "text/plain": [
       "<Figure size 432x288 with 1 Axes>"
      ]
     },
     "metadata": {},
     "output_type": "display_data"
    },
    {
     "data": {
      "image/png": "[encoded data removed]",
      "text/plain": [
       "<Figure size 432x288 with 1 Axes>"
      ]
     },
     "metadata": {},
     "output_type": "display_data"
    }
   ],
   "source": [
    "train_data[\"last_6m_avg_consume\"].plot(kind=\"density\")\n",
    "pd.DataFrame(np.log10(train_data[\"last_6m_avg_consume\"]+2)).plot(kind='density')\n"
   ]
  },
  {
   "cell_type": "code",
   "execution_count": 17,
   "metadata": {},
   "outputs": [
    {
     "data": {
      "text/plain": [
       "<matplotlib.axes._subplots.AxesSubplot at 0x29d3bdb30b8>"
      ]
     },
     "execution_count": 17,
     "metadata": {},
     "output_type": "execute_result"
    },
    {
     "data": {
      "image/png": "[encoded data removed]",
      "text/plain": [
       "<Figure size 432x288 with 1 Axes>"
      ]
     },
     "metadata": {},
     "output_type": "display_data"
    },
    {
     "data": {
      "image/png": "[encoded data removed]",
      "text/plain": [
       "<Figure size 432x288 with 1 Axes>"
      ]
     },
     "metadata": {},
     "output_type": "display_data"
    }
   ],
   "source": [
    "train_data[\"m_cost\"].plot(kind=\"kde\")\n",
    "pd.DataFrame(np.log10(train_data[\"m_cost\"]+20)).plot(kind='kde')\n"
   ]
  },
  {
   "cell_type": "code",
   "execution_count": null,
   "metadata": {},
   "outputs": [],
   "source": []
  },
  {
   "cell_type": "code",
   "execution_count": 24,
   "metadata": {},
   "outputs": [],
   "source": []
  },
  {
   "cell_type": "code",
   "execution_count": 30,
   "metadata": {},
   "outputs": [
    {
     "data": {
      "text/plain": [
       "array([[<matplotlib.axes._subplots.AxesSubplot object at 0x0000014B61CB55C0>,\n",
       "        <matplotlib.axes._subplots.AxesSubplot object at 0x0000014B614FB470>,\n",
       "        <matplotlib.axes._subplots.AxesSubplot object at 0x0000014B616E24A8>,\n",
       "        <matplotlib.axes._subplots.AxesSubplot object at 0x0000014B61700B38>],\n",
       "       [<matplotlib.axes._subplots.AxesSubplot object at 0x0000014B6172E208>,\n",
       "        <matplotlib.axes._subplots.AxesSubplot object at 0x0000014B6172E240>,\n",
       "        <matplotlib.axes._subplots.AxesSubplot object at 0x0000014B61780F28>,\n",
       "        <matplotlib.axes._subplots.AxesSubplot object at 0x0000014B617B05F8>],\n",
       "       [<matplotlib.axes._subplots.AxesSubplot object at 0x0000014B617D8C88>,\n",
       "        <matplotlib.axes._subplots.AxesSubplot object at 0x0000014B6180A358>,\n",
       "        <matplotlib.axes._subplots.AxesSubplot object at 0x0000014B618319E8>,\n",
       "        <matplotlib.axes._subplots.AxesSubplot object at 0x0000014B618640B8>],\n",
       "       [<matplotlib.axes._subplots.AxesSubplot object at 0x0000014B6188D748>,\n",
       "        <matplotlib.axes._subplots.AxesSubplot object at 0x0000014B618B5DD8>,\n",
       "        <matplotlib.axes._subplots.AxesSubplot object at 0x0000014B618E64A8>,\n",
       "        <matplotlib.axes._subplots.AxesSubplot object at 0x0000014B6190EB38>],\n",
       "       [<matplotlib.axes._subplots.AxesSubplot object at 0x0000014B61940208>,\n",
       "        <matplotlib.axes._subplots.AxesSubplot object at 0x0000014B623F8898>,\n",
       "        <matplotlib.axes._subplots.AxesSubplot object at 0x0000014B62422F28>,\n",
       "        <matplotlib.axes._subplots.AxesSubplot object at 0x0000014B624545F8>]],\n",
       "      dtype=object)"
      ]
     },
     "execution_count": 30,
     "metadata": {},
     "output_type": "execute_result"
    },
    {
     "data": {
      "image/png": "[encoded data removed]",
      "text/plain": [
       "<Figure size 1440x1440 with 20 Axes>"
      ]
     },
     "metadata": {},
     "output_type": "display_data"
    }
   ],
   "source": [
    "train_data[['age','net_age_m','last_pay_m','last_pay_amt','last_6m_avg_consume','m_cost','m_balance','charge_sensitivity','m_social_persons'\n",
    ",'last_3m_mavg_mall','m_online_shop_app_num','m_express_app_num','m_finance_app_num','m_video_app_num','m_airplane_app_num'\n",
    ",'m_train_app_num','m_tour_news_app_num','score']].hist(figsize=(20,20))"
   ]
  },
  {
   "cell_type": "markdown",
   "metadata": {},
   "source": [
    "# 数值类属性通过盒形图观察数据分布情况"
   ]
  },
  {
   "cell_type": "code",
   "execution_count": 6,
   "metadata": {},
   "outputs": [
    {
     "data": {
      "text/plain": [
       "<matplotlib.axes._subplots.AxesSubplot at 0x2645b7b0710>"
      ]
     },
     "execution_count": 6,
     "metadata": {},
     "output_type": "execute_result"
    },
    {
     "data": {
      "image/png": "[encoded data removed]",
      "text/plain": [
       "<Figure size 432x288 with 1 Axes>"
      ]
     },
     "metadata": {},
     "output_type": "display_data"
    },
    {
     "data": {
      "image/png": "[encoded data removed]",
      "text/plain": [
       "<Figure size 432x288 with 1 Axes>"
      ]
     },
     "metadata": {},
     "output_type": "display_data"
    }
   ],
   "source": [
    "num_attribs = ['age', 'net_age_m', 'last_pay_m', 'last_pay_amt', 'last_6m_avg_consume', 'm_cost', 'm_balance'\n",
    "            , 'charge_sensitivity', 'm_social_persons', 'last_3m_mavg_mall', 'm_online_shop_app_num', 'm_express_app_num'\n",
    "            , 'm_finance_app_num', 'm_video_app_num', 'm_airplane_app_num', 'm_train_app_num', 'm_tour_news_app_num']\n",
    "train_data[\"age\"].plot(kind=\"box\")\n",
    "pd.DataFrame(np.log10(train_data[\"age\"]+1)).plot(kind='box')"
   ]
  },
  {
   "cell_type": "code",
   "execution_count": 47,
   "metadata": {},
   "outputs": [
    {
     "data": {
      "text/plain": [
       "429"
      ]
     },
     "execution_count": 47,
     "metadata": {},
     "output_type": "execute_result"
    }
   ],
   "source": [
    "train_data[\"log_age\"] = np.log10(train_data[\"age\"]+1)\n",
    "stats = train_data[\"log_age\"].describe()\n",
    "IQR = stats.loc[\"75%\"] - stats.loc[\"25%\"]\n",
    "c_max = stats.loc[\"75%\"] + 1.5 * IQR\n",
    "c_min = stats.loc[\"25%\"] - 1.5 * IQR\n",
    "# train_data.loc[train_data[\"age\"]==0][\"age\"]\n",
    "# c_max\n",
    "# train_data[(train_data[\"log_age\"]<=c_max) & (train_data[\"log_age\"]>=c_min)]#[\"log_age\"]#.count()\n",
    "# ((train_data[\"log_age\"]>=c_max) | (train_data[\"log_age\"]<=c_min)).where\n",
    "# print(((train_data[\"log_age\"]>=c_max) | (train_data[\"log_age\"]<=c_min)).index.values.size)\n",
    "train_data[(train_data[\"log_age\"]>=c_max) | (train_data[\"log_age\"]<=c_min)].index.values.size\n",
    "# 48880\n",
    "# 49571"
   ]
  },
  {
   "cell_type": "code",
   "execution_count": 24,
   "metadata": {},
   "outputs": [
    {
     "data": {
      "text/plain": [
       "log_age     1.662758\n",
       "age        45.000000\n",
       "Name: 75%, dtype: float64"
      ]
     },
     "execution_count": 24,
     "metadata": {},
     "output_type": "execute_result"
    }
   ],
   "source": [
    "train_data[[\"log_age\", \"age\"]].describe().loc[\"75%\"]"
   ]
  },
  {
   "cell_type": "code",
   "execution_count": null,
   "metadata": {},
   "outputs": [],
   "source": []
  },
  {
   "cell_type": "code",
   "execution_count": null,
   "metadata": {},
   "outputs": [],
   "source": []
  },
  {
   "cell_type": "code",
   "execution_count": null,
   "metadata": {},
   "outputs": [],
   "source": []
  },
  {
   "cell_type": "code",
   "execution_count": null,
   "metadata": {},
   "outputs": [],
   "source": []
  },
  {
   "cell_type": "code",
   "execution_count": null,
   "metadata": {},
   "outputs": [],
   "source": []
  },
  {
   "cell_type": "code",
   "execution_count": 69,
   "metadata": {},
   "outputs": [
    {
     "data": {
      "text/plain": [
       "score                    1.000000\n",
       "net_age_m                0.546879\n",
       "last_6m_avg_consume      0.493738\n",
       "m_social_persons         0.477296\n",
       "m_cost                   0.443053\n",
       "last_pay_amt             0.333528\n",
       "is_m_tour                0.270853\n",
       "is_m_pay_gym             0.233045\n",
       "last_pay_m               0.215241\n",
       "last_3m_mavg_mall        0.197801\n",
       "is_m_movies              0.165391\n",
       "m_finance_app_num        0.113797\n",
       "is_offen_mall            0.113087\n",
       "is_blacklist             0.110556\n",
       "is_arrears               0.089809\n",
       "m_balance                0.081092\n",
       "m_video_app_num          0.064858\n",
       "is_m_Sam                 0.054115\n",
       "is_m_WanDa               0.051379\n",
       "age                      0.037770\n",
       "m_online_shop_app_num    0.033498\n",
       "m_train_app_num          0.032556\n",
       "is_real_name             0.028925\n",
       "is_undegraduate          0.025314\n",
       "m_tour_news_app_num      0.020779\n",
       "m_airplane_app_num       0.014363\n",
       "m_express_app_num        0.001055\n",
       "is_4G_ill               -0.147157\n",
       "charge_sensitivity      -0.239397\n",
       "Name: score, dtype: float64"
      ]
     },
     "execution_count": 69,
     "metadata": {},
     "output_type": "execute_result"
    }
   ],
   "source": [
    "traind_data_corr = train_data.corr()\n",
    "traind_data_corr[\"score\"].sort_values(ascending=False)"
   ]
  },
  {
   "cell_type": "code",
   "execution_count": 24,
   "metadata": {},
   "outputs": [
    {
     "data": {
      "text/plain": [
       "score                         1.000000\n",
       "m_social_persons_log          0.714305\n",
       "net_age_m_log                 0.603995\n",
       "net_age_per_age               0.557952\n",
       "last_6m_avg_consume_log       0.553747\n",
       "net_age_m                     0.546893\n",
       "m_cost_log                    0.507172\n",
       "last_6m_avg_consume           0.493749\n",
       "m_social_persons              0.477302\n",
       "m_cost                        0.443064\n",
       "last_pay_amt                  0.333539\n",
       "is_m_tour                     0.270870\n",
       "is_m_pay_gym                  0.233067\n",
       "last_pay_m                    0.215252\n",
       "last_3m_mavg_mall             0.197827\n",
       "is_m_movies                   0.165377\n",
       "m_finance_app_num             0.113808\n",
       "is_offen_mall                 0.113114\n",
       "is_blacklist                  0.110549\n",
       "is_arrears                    0.089803\n",
       "m_balance                     0.081096\n",
       "m_video_app_num               0.064864\n",
       "is_m_Sam                      0.054110\n",
       "is_m_WanDa                    0.051375\n",
       "age                           0.037780\n",
       "m_online_shop_app_num         0.033495\n",
       "m_train_app_num               0.032554\n",
       "is_real_name                  0.028927\n",
       "is_undegraduate               0.025312\n",
       "m_tour_news_app_num           0.020780\n",
       "m_airplane_app_num            0.014362\n",
       "m_express_app_num             0.001054\n",
       "is_4G_ill                    -0.147162\n",
       "charge_sensitivity           -0.239400\n",
       "last_6m_consum_per_net_age   -0.303123\n",
       "Name: score, dtype: float64"
      ]
     },
     "execution_count": 24,
     "metadata": {},
     "output_type": "execute_result"
    }
   ],
   "source": [
    "tmp_train_data = train_data.copy()\n",
    "tmp_train_data[\"net_age_per_age\"] = tmp_train_data[\"net_age_m\"]/(12*tmp_train_data[\"age\"])\n",
    "tmp_train_data[\"last_6m_consum_per_net_age\"] = tmp_train_data[\"last_6m_avg_consume\"]/tmp_train_data[\"net_age_m\"]\n",
    "tmp_train_data[\"net_age_m_log\"] = np.log10(train_data[\"net_age_m\"]+1)\n",
    "tmp_train_data[\"m_social_persons_log\"] = np.log10(train_data[\"m_social_persons\"]+1)\n",
    "tmp_train_data[\"m_cost_log\"] = np.log10(train_data[\"m_cost\"]+1)\n",
    "tmp_train_data[\"last_6m_avg_consume_log\"] = np.log10(train_data[\"last_6m_avg_consume\"]+1)\n",
    "tmp_train_data_corr = tmp_train_data.corr()\n",
    "tmp_train_data_corr[\"score\"].sort_values(ascending=False)"
   ]
  },
  {
   "cell_type": "code",
   "execution_count": 68,
   "metadata": {},
   "outputs": [
    {
     "data": {
      "text/plain": [
       "<matplotlib.axes._subplots.AxesSubplot at 0x14b14183f60>"
      ]
     },
     "execution_count": 68,
     "metadata": {},
     "output_type": "execute_result"
    },
    {
     "data": {
      "image/png": "[encoded data removed]",
      "text/plain": [
       "<Figure size 1008x720 with 2 Axes>"
      ]
     },
     "metadata": {},
     "output_type": "display_data"
    }
   ],
   "source": [
    "# traind_data_corr\n",
    "%matplotlib inline \n",
    "import seaborn as sns\n",
    "fig = plt.figure(figsize=(14,10))\n",
    "# f, ax = plt.subplots(figsize=(14, 10))\n",
    "sns.heatmap(traind_data_corr, center=1,cmap=plt.get_cmap(\"jet\"), vmin=-1, vmax=1)"
   ]
  },
  {
   "cell_type": "code",
   "execution_count": null,
   "metadata": {},
   "outputs": [],
   "source": []
  },
  {
   "cell_type": "code",
   "execution_count": null,
   "metadata": {},
   "outputs": [],
   "source": []
  },
  {
   "cell_type": "markdown",
   "metadata": {},
   "source": [
    "## 工具函数"
   ]
  },
  {
   "cell_type": "code",
   "execution_count": 26,
   "metadata": {},
   "outputs": [],
   "source": [
    "# Definition of the CategoricalEncoder class, copied from PR #9151.\n",
    "# Just run this cell, or copy it to your code, do not try to understand it (yet).\n",
    "\n",
    "from sklearn.base import BaseEstimator, TransformerMixin\n",
    "from sklearn.utils import check_array\n",
    "from sklearn.preprocessing import LabelEncoder\n",
    "from scipy import sparse\n",
    "\n",
    "class CategoricalEncoder(BaseEstimator, TransformerMixin):\n",
    "    \"\"\"Encode categorical features as a numeric array.\n",
    "    The input to this transformer should be a matrix of integers or strings,\n",
    "    denoting the values taken on by categorical (discrete) features.\n",
    "    The features can be encoded using a one-hot aka one-of-K scheme\n",
    "    (``encoding='onehot'``, the default) or converted to ordinal integers\n",
    "    (``encoding='ordinal'``).\n",
    "    This encoding is needed for feeding categorical data to many scikit-learn\n",
    "    estimators, notably linear models and SVMs with the standard kernels.\n",
    "    Read more in the :ref:`User Guide <preprocessing_categorical_features>`.\n",
    "    Parameters\n",
    "    ----------\n",
    "    encoding : str, 'onehot', 'onehot-dense' or 'ordinal'\n",
    "        The type of encoding to use (default is 'onehot'):\n",
    "        - 'onehot': encode the features using a one-hot aka one-of-K scheme\n",
    "          (or also called 'dummy' encoding). This creates a binary column for\n",
    "          each category and returns a sparse matrix.\n",
    "        - 'onehot-dense': the same as 'onehot' but returns a dense array\n",
    "          instead of a sparse matrix.\n",
    "        - 'ordinal': encode the features as ordinal integers. This results in\n",
    "          a single column of integers (0 to n_categories - 1) per feature.\n",
    "    categories : 'auto' or a list of lists/arrays of values.\n",
    "        Categories (unique values) per feature:\n",
    "        - 'auto' : Determine categories automatically from the training data.\n",
    "        - list : ``categories[i]`` holds the categories expected in the ith\n",
    "          column. The passed categories are sorted before encoding the data\n",
    "          (used categories can be found in the ``categories_`` attribute).\n",
    "    dtype : number type, default np.float64\n",
    "        Desired dtype of output.\n",
    "    handle_unknown : 'error' (default) or 'ignore'\n",
    "        Whether to raise an error or ignore if a unknown categorical feature is\n",
    "        present during transform (default is to raise). When this is parameter\n",
    "        is set to 'ignore' and an unknown category is encountered during\n",
    "        transform, the resulting one-hot encoded columns for this feature\n",
    "        will be all zeros.\n",
    "        Ignoring unknown categories is not supported for\n",
    "        ``encoding='ordinal'``.\n",
    "    Attributes\n",
    "    ----------\n",
    "    categories_ : list of arrays\n",
    "        The categories of each feature determined during fitting. When\n",
    "        categories were specified manually, this holds the sorted categories\n",
    "        (in order corresponding with output of `transform`).\n",
    "    Examples\n",
    "    --------\n",
    "    Given a dataset with three features and two samples, we let the encoder\n",
    "    find the maximum value per feature and transform the data to a binary\n",
    "    one-hot encoding.\n",
    "    >>> from sklearn.preprocessing import CategoricalEncoder\n",
    "    >>> enc = CategoricalEncoder(handle_unknown='ignore')\n",
    "    >>> enc.fit([[0, 0, 3], [1, 1, 0], [0, 2, 1], [1, 0, 2]])\n",
    "    ... # doctest: +ELLIPSIS\n",
    "    CategoricalEncoder(categories='auto', dtype=<... 'numpy.float64'>,\n",
    "              encoding='onehot', handle_unknown='ignore')\n",
    "    >>> enc.transform([[0, 1, 1], [1, 0, 4]]).toarray()\n",
    "    array([[ 1.,  0.,  0.,  1.,  0.,  0.,  1.,  0.,  0.],\n",
    "           [ 0.,  1.,  1.,  0.,  0.,  0.,  0.,  0.,  0.]])\n",
    "    See also\n",
    "    --------\n",
    "    sklearn.preprocessing.OneHotEncoder : performs a one-hot encoding of\n",
    "      integer ordinal features. The ``OneHotEncoder assumes`` that input\n",
    "      features take on values in the range ``[0, max(feature)]`` instead of\n",
    "      using the unique values.\n",
    "    sklearn.feature_extraction.DictVectorizer : performs a one-hot encoding of\n",
    "      dictionary items (also handles string-valued features).\n",
    "    sklearn.feature_extraction.FeatureHasher : performs an approximate one-hot\n",
    "      encoding of dictionary items or strings.\n",
    "    \"\"\"\n",
    "\n",
    "    def __init__(self, encoding='onehot', categories='auto', dtype=np.float64,\n",
    "                 handle_unknown='error'):\n",
    "        self.encoding = encoding\n",
    "        self.categories = categories\n",
    "        self.dtype = dtype\n",
    "        self.handle_unknown = handle_unknown\n",
    "\n",
    "    def fit(self, X, y=None):\n",
    "        \"\"\"Fit the CategoricalEncoder to X.\n",
    "        Parameters\n",
    "        ----------\n",
    "        X : array-like, shape [n_samples, n_feature]\n",
    "            The data to determine the categories of each feature.\n",
    "        Returns\n",
    "        -------\n",
    "        self\n",
    "        \"\"\"\n",
    "\n",
    "        if self.encoding not in ['onehot', 'onehot-dense', 'ordinal']:\n",
    "            template = (\"encoding should be either 'onehot', 'onehot-dense' \"\n",
    "                        \"or 'ordinal', got %s\")\n",
    "            raise ValueError(template % self.handle_unknown)\n",
    "\n",
    "        if self.handle_unknown not in ['error', 'ignore']:\n",
    "            template = (\"handle_unknown should be either 'error' or \"\n",
    "                        \"'ignore', got %s\")\n",
    "            raise ValueError(template % self.handle_unknown)\n",
    "\n",
    "        if self.encoding == 'ordinal' and self.handle_unknown == 'ignore':\n",
    "            raise ValueError(\"handle_unknown='ignore' is not supported for\"\n",
    "                             \" encoding='ordinal'\")\n",
    "\n",
    "        X = check_array(X, dtype=np.object, accept_sparse='csc', copy=True)\n",
    "        n_samples, n_features = X.shape\n",
    "\n",
    "        self._label_encoders_ = [LabelEncoder() for _ in range(n_features)]\n",
    "\n",
    "        for i in range(n_features):\n",
    "            le = self._label_encoders_[i]\n",
    "            Xi = X[:, i]\n",
    "            if self.categories == 'auto':\n",
    "                le.fit(Xi)\n",
    "            else:\n",
    "                valid_mask = np.in1d(Xi, self.categories[i])\n",
    "                if not np.all(valid_mask):\n",
    "                    if self.handle_unknown == 'error':\n",
    "                        diff = np.unique(Xi[~valid_mask])\n",
    "                        msg = (\"Found unknown categories {0} in column {1}\"\n",
    "                               \" during fit\".format(diff, i))\n",
    "                        raise ValueError(msg)\n",
    "                le.classes_ = np.array(np.sort(self.categories[i]))\n",
    "\n",
    "        self.categories_ = [le.classes_ for le in self._label_encoders_]\n",
    "\n",
    "        return self\n",
    "\n",
    "    def transform(self, X):\n",
    "        \"\"\"Transform X using one-hot encoding.\n",
    "        Parameters\n",
    "        ----------\n",
    "        X : array-like, shape [n_samples, n_features]\n",
    "            The data to encode.\n",
    "        Returns\n",
    "        -------\n",
    "        X_out : sparse matrix or a 2-d array\n",
    "            Transformed input.\n",
    "        \"\"\"\n",
    "        X = check_array(X, accept_sparse='csc', dtype=np.object, copy=True)\n",
    "        n_samples, n_features = X.shape\n",
    "        X_int = np.zeros_like(X, dtype=np.int)\n",
    "        X_mask = np.ones_like(X, dtype=np.bool)\n",
    "\n",
    "        for i in range(n_features):\n",
    "            valid_mask = np.in1d(X[:, i], self.categories_[i])\n",
    "\n",
    "            if not np.all(valid_mask):\n",
    "                if self.handle_unknown == 'error':\n",
    "                    diff = np.unique(X[~valid_mask, i])\n",
    "                    msg = (\"Found unknown categories {0} in column {1}\"\n",
    "                           \" during transform\".format(diff, i))\n",
    "                    raise ValueError(msg)\n",
    "                else:\n",
    "                    # Set the problematic rows to an acceptable value and\n",
    "                    # continue `The rows are marked `X_mask` and will be\n",
    "                    # removed later.\n",
    "                    X_mask[:, i] = valid_mask\n",
    "                    X[:, i][~valid_mask] = self.categories_[i][0]\n",
    "            X_int[:, i] = self._label_encoders_[i].transform(X[:, i])\n",
    "\n",
    "        if self.encoding == 'ordinal':\n",
    "            return X_int.astype(self.dtype, copy=False)\n",
    "\n",
    "        mask = X_mask.ravel()\n",
    "        n_values = [cats.shape[0] for cats in self.categories_]\n",
    "        n_values = np.array([0] + n_values)\n",
    "        indices = np.cumsum(n_values)\n",
    "\n",
    "        column_indices = (X_int + indices[:-1]).ravel()[mask]\n",
    "        row_indices = np.repeat(np.arange(n_samples, dtype=np.int32),\n",
    "                                n_features)[mask]\n",
    "        data = np.ones(n_samples * n_features)[mask]\n",
    "\n",
    "        out = sparse.csc_matrix((data, (row_indices, column_indices)),\n",
    "                                shape=(n_samples, indices[-1]),\n",
    "                                dtype=self.dtype).tocsr()\n",
    "        if self.encoding == 'onehot-dense':\n",
    "            return out.toarray()\n",
    "        else:\n",
    "            return out"
   ]
  },
  {
   "cell_type": "code",
   "execution_count": 27,
   "metadata": {},
   "outputs": [
    {
     "name": "stdout",
     "output_type": "stream",
     "text": [
      "(50000, 6)\n"
     ]
    },
    {
     "data": {
      "text/plain": [
       "array([1., 1., 1., ..., 1., 1., 1.])"
      ]
     },
     "execution_count": 27,
     "metadata": {},
     "output_type": "execute_result"
    }
   ],
   "source": [
    "cat_encoder = CategoricalEncoder()\n",
    "train_data_cat_reshaped = train_data['charge_sensitivity'].values.reshape(-1, 1)\n",
    "train_data_cat_1hot = cat_encoder.fit_transform(train_data_cat_reshaped)\n",
    "print(train_data_cat_1hot.shape)\n",
    "train_data_cat_1hot.data"
   ]
  },
  {
   "cell_type": "markdown",
   "metadata": {},
   "source": [
    "## 构建pipeline"
   ]
  },
  {
   "cell_type": "code",
   "execution_count": 28,
   "metadata": {},
   "outputs": [],
   "source": [
    "# DataFrameSelector\n",
    "from sklearn.base import BaseEstimator, TransformerMixin\n",
    "class DataFrameSelector(BaseEstimator, TransformerMixin):\n",
    "    def __init__(self, attribute_names):\n",
    "        self.__attribute_names = attribute_names\n",
    "    \n",
    "    def fit(self, X, y=None):\n",
    "        return self\n",
    "    \n",
    "    def transform(self, X):\n",
    "        return X[self.__attribute_names]\n",
    "        \n",
    "        "
   ]
  },
  {
   "cell_type": "code",
   "execution_count": 93,
   "metadata": {},
   "outputs": [],
   "source": [
    "from sklearn.base import BaseEstimator, TransformerMixin\n",
    "\n",
    "class CombinedAttributesAdder(BaseEstimator, TransformerMixin):\n",
    "    def __init__(self, df_data):\n",
    "        data_columns = df_data.columns\n",
    "        self.ix_net_age_m = data_columns.get_loc(\"net_age_m\")\n",
    "        self.ix_age = data_columns.get_loc(\"age\")\n",
    "        self.ix_last_6m_avg_consume = data_columns.get_loc(\"last_6m_avg_consume\")\n",
    "        self.ix_m_social_persons = data_columns.get_loc(\"m_social_persons\")\n",
    "        self.ix_m_cost = data_columns.get_loc(\"m_cost\")\n",
    "    \n",
    "    def fit(self, X, y=None):\n",
    "        return self\n",
    "    \n",
    "    def transform(self, X, y=None):\n",
    "        print(self.ix_net_age_m)\n",
    "#         m_net_age_per_age = X[:, self.ix_net_age_m] / (12*X[:, self.ix_age])\n",
    "        last_6m_consum_per_net_age = X[:, self.ix_last_6m_avg_consume] / X[:, self.ix_net_age_m]\n",
    "        print(X[:, self.ix_net_age_m]+1)\n",
    "        net_age_m_log = np.log10(np.asarray((X[:, self.ix_net_age_m]+1), dtype=float))\n",
    "        m_social_persons_log = np.log10(np.asarray(X[:, self.ix_m_social_persons]+1, dtype=float))\n",
    "        m_cost_log = np.log10(np.asarray(X[:, self.ix_m_cost]+1, dtype=float))\n",
    "        last_6m_avg_consume_log = np.log10(np.asarray(X[:, self.ix_last_6m_avg_consume]+1, dtype=float))\n",
    "        return np.c_[X, last_6m_consum_per_net_age, net_age_m_log\n",
    "                     , m_social_persons_log, m_cost_log, last_6m_avg_consume_log]\n",
    "        "
   ]
  },
  {
   "cell_type": "code",
   "execution_count": 94,
   "metadata": {},
   "outputs": [
    {
     "name": "stdout",
     "output_type": "stream",
     "text": [
      "6\n",
      "[187 6 146 ... 154 147 108]\n"
     ]
    },
    {
     "data": {
      "text/plain": [
       "array([['a4651f98c82948b186bdcdc8108381b4', 1, 44, ...,\n",
       "        1.9242792860618816, 2.204662511748219, 2.217115295507684],\n",
       "       ['aeb10247db4e4d67b2550bbc42ff9827', 1, 18, ...,\n",
       "        1.3424226808222062, 2.1646502159342966, 2.1883096301940044],\n",
       "       ['5af23a1e0e77410abb25e9a7eee510aa', 1, 47, ...,\n",
       "        1.7781512503836436, 2.0835026198302673, 2.0439121671012543],\n",
       "       ...,\n",
       "       ['7a51b581cf954969b0bafb47e06a4344', 1, 50, ...,\n",
       "        1.6720978579357175, 2.1886191672078485, 2.1873232693750473],\n",
       "       ['80c352e4c5a849c3afb3515cf4e25122', 1, 33, ...,\n",
       "        1.3222192947339193, 1.5185139398778875, 1.5663196215248114],\n",
       "       ['78a1527e9ca94519a5de3c2f82b745f0', 1, 32, ...,\n",
       "        2.037426497940624, 2.1501421618485588, 2.252173155771534]],\n",
       "      dtype=object)"
      ]
     },
     "execution_count": 94,
     "metadata": {},
     "output_type": "execute_result"
    }
   ],
   "source": [
    "combine = CombinedAttributesAdder(train_data)\n",
    "tmp = combine.transform(train_data.values)\n",
    "tmp"
   ]
  },
  {
   "cell_type": "code",
   "execution_count": 95,
   "metadata": {},
   "outputs": [],
   "source": [
    "from sklearn.pipeline import Pipeline, FeatureUnion\n",
    "from sklearn.preprocessing import StandardScaler\n",
    "\n",
    "num_attribs = ['age','net_age_m','last_pay_m','last_pay_amt','last_6m_avg_consume','m_cost','m_balance','charge_sensitivity','m_social_persons'\n",
    ",'last_3m_mavg_mall','m_online_shop_app_num','m_express_app_num','m_finance_app_num','m_video_app_num','m_airplane_app_num'\n",
    ",'m_train_app_num','m_tour_news_app_num']\n",
    "binary_attribs = ['is_real_name','is_undegraduate','is_blacklist','is_4G_ill','is_arrears'\n",
    "    ,'is_offen_mall','is_m_WanDa','is_m_Sam','is_m_movies','is_m_tour','is_m_pay_gym']\n",
    "cat_attribs = ['charge_sensitivity']\n",
    "\n",
    "\n",
    "##### Pipeline\n",
    "num_pipeline = Pipeline([\n",
    "    (\"selector\", DataFrameSelector(num_attribs)),\n",
    "    (\"std_scaler\", StandardScaler()),\n",
    "])\n",
    "\n",
    "binary_pipeline = Pipeline([\n",
    "    (\"selector\", DataFrameSelector(binary_attribs)),\n",
    "])\n",
    "\n",
    "cat_pipeline = Pipeline([\n",
    "    (\"selector\", DataFrameSelector(cat_attribs)),\n",
    "    ('cat_encoder', CategoricalEncoder(encoding=\"onehot-dense\")),\n",
    "])\n",
    "\n",
    "# extra_pipeline = Pipeline([\n",
    "#     (\"extra_feature\", CombinedAttributesAdder(train_data)),\n",
    "# ])\n",
    "\n",
    "##########\n",
    "full_pipeline = FeatureUnion(transformer_list=[\n",
    "        (\"num_pipeline\", num_pipeline),\n",
    "        (\"binary_pipeline\", binary_pipeline),\n",
    "        (\"cat_pipeline\", cat_pipeline),\n",
    "#         (\"extra_pipeline\", extra_pipeline),\n",
    "    ])\n"
   ]
  },
  {
   "cell_type": "code",
   "execution_count": 96,
   "metadata": {},
   "outputs": [],
   "source": [
    "# train_data\n",
    "# tmp_train_data\n",
    "train_data_prepared = full_pipeline.fit_transform(tmp_train_data)\n",
    "\n",
    "# net_age_per_age = tmp_train_data[\"net_age_m\"]/(12*tmp_train_data[\"age\"])\n",
    "last_6m_consum_per_net_age = tmp_train_data[\"last_6m_avg_consume\"]/tmp_train_data[\"net_age_m\"]\n",
    "net_age_m_log = np.log10(train_data[\"net_age_m\"]+1)\n",
    "m_social_persons_log = np.log10(train_data[\"m_social_persons\"]+1)\n",
    "m_cost_log = np.log10(train_data[\"m_cost\"]+1)\n",
    "last_6m_avg_consume_log = np.log10(train_data[\"last_6m_avg_consume\"]+1)\n",
    "train_data_prepared = np.c_[train_data_prepared, last_6m_consum_per_net_age, net_age_m_log\n",
    "                            , m_social_persons_log, m_cost_log, last_6m_avg_consume_log]\n",
    "\n",
    "train_data_label = train_data[\"score\"]"
   ]
  },
  {
   "cell_type": "code",
   "execution_count": null,
   "metadata": {},
   "outputs": [],
   "source": []
  },
  {
   "cell_type": "markdown",
   "metadata": {},
   "source": [
    "## 项目评估函数"
   ]
  },
  {
   "cell_type": "code",
   "execution_count": 97,
   "metadata": {},
   "outputs": [],
   "source": [
    "from sklearn.metrics import mean_absolute_error\n",
    "def result_score(y_true, y_pred):\n",
    "    return 1/(1+mean_absolute_error(y_true, y_pred))"
   ]
  },
  {
   "cell_type": "code",
   "execution_count": null,
   "metadata": {},
   "outputs": [],
   "source": []
  },
  {
   "cell_type": "markdown",
   "metadata": {},
   "source": [
    "## 数据切分测试"
   ]
  },
  {
   "cell_type": "code",
   "execution_count": 98,
   "metadata": {},
   "outputs": [
    {
     "name": "stdout",
     "output_type": "stream",
     "text": [
      "=====================\n",
      "train score:  0.05798218406721243\n",
      "test score:  0.05536707740237432\n",
      "=====================\n",
      "train score:  0.0579660756085213\n",
      "test score:  0.0571070166492499\n",
      "=====================\n",
      "train score:  0.057932423116706426\n",
      "test score:  0.059685102827658064\n",
      "=====================\n",
      "train score:  0.05797043589694393\n",
      "test score:  0.05723162039171333\n",
      "=====================\n",
      "train score:  0.05797294657913375\n",
      "test score:  0.05661011961362965\n"
     ]
    }
   ],
   "source": [
    "from sklearn.model_selection import ShuffleSplit\n",
    "from sklearn.linear_model import LinearRegression\n",
    "\n",
    "rs = ShuffleSplit(n_splits=5, test_size=.01, random_state=142)\n",
    "for train_idx, test_idx in rs.split(train_data_prepared):\n",
    "    train_X = train_data_prepared[train_idx]\n",
    "    train_y = train_data_label[train_idx]\n",
    "    test_X = train_data_prepared[test_idx]\n",
    "    test_y = train_data_label[test_idx]\n",
    "\n",
    "    lin_reg = LinearRegression()\n",
    "    lin_reg.fit(train_X, train_y)\n",
    "    print(\"=====================\")\n",
    "    print(\"train score: \", result_score(train_y, lin_reg.predict(train_X)))\n",
    "    print(\"test score: \", result_score(test_y, lin_reg.predict(test_X)))\n",
    "#     print(lin_reg.predict(test_data_prepared[0].reshape(1, 34)))\n",
    "# lin_reg.fit(train_data_prepared, train_data_label)"
   ]
  },
  {
   "cell_type": "markdown",
   "metadata": {},
   "source": [
    "## 线性模型测试集预测"
   ]
  },
  {
   "cell_type": "code",
   "execution_count": 105,
   "metadata": {},
   "outputs": [],
   "source": [
    "def test_predict(model, pipeline, file_name):\n",
    "    test_data = load_data(TEST_DATA, is_train=0)\n",
    "    test_data_prepared = pipeline.fit_transform(test_data)\n",
    "    \n",
    "    last_6m_consum_per_net_age = test_data[\"last_6m_avg_consume\"]/test_data[\"net_age_m\"]\n",
    "    net_age_m_log = np.log10(test_data[\"net_age_m\"]+1)\n",
    "    m_social_persons_log = np.log10(test_data[\"m_social_persons\"]+1)\n",
    "    m_cost_log = np.log10(test_data[\"m_cost\"]+1)\n",
    "    last_6m_avg_consume_log = np.log10(test_data[\"last_6m_avg_consume\"]+1)\n",
    "    test_data_prepared = np.c_[test_data_prepared, last_6m_consum_per_net_age, net_age_m_log\n",
    "                            , m_social_persons_log, m_cost_log, last_6m_avg_consume_log]\n",
    "    \n",
    "    test_pred = model.predict(test_data_prepared)\n",
    "    df_result = pd.DataFrame(np.c_[test_data[\"id\"], test_pred.round()], columns=[\"id\", \"score\"])\n",
    "    print(df_result.head())\n",
    "    if not os.path.exists(OUTPUT_PATH):\n",
    "        os.makedirs(OUTPUT_PATH)\n",
    "    file = os.path.join(OUTPUT_PATH, file_name)\n",
    "    df_result.to_csv(file, index=False, sep=\",\", encoding=\"utf-8\")\n",
    "    print(\"The predict result was written to \", file)\n",
    "    "
   ]
  },
  {
   "cell_type": "code",
   "execution_count": 54,
   "metadata": {},
   "outputs": [
    {
     "data": {
      "text/html": [
       "<div>\n",
       "<style scoped>\n",
       "    .dataframe tbody tr th:only-of-type {\n",
       "        vertical-align: middle;\n",
       "    }\n",
       "\n",
       "    .dataframe tbody tr th {\n",
       "        vertical-align: top;\n",
       "    }\n",
       "\n",
       "    .dataframe thead th {\n",
       "        text-align: right;\n",
       "    }\n",
       "</style>\n",
       "<table border=\"1\" class=\"dataframe\">\n",
       "  <thead>\n",
       "    <tr style=\"text-align: right;\">\n",
       "      <th></th>\n",
       "      <th>is_real_name</th>\n",
       "      <th>age</th>\n",
       "      <th>is_undegraduate</th>\n",
       "      <th>is_blacklist</th>\n",
       "      <th>is_4G_ill</th>\n",
       "      <th>net_age_m</th>\n",
       "      <th>last_pay_m</th>\n",
       "      <th>last_pay_amt</th>\n",
       "      <th>last_6m_avg_consume</th>\n",
       "      <th>m_cost</th>\n",
       "      <th>...</th>\n",
       "      <th>is_m_movies</th>\n",
       "      <th>is_m_tour</th>\n",
       "      <th>is_m_pay_gym</th>\n",
       "      <th>m_online_shop_app_num</th>\n",
       "      <th>m_express_app_num</th>\n",
       "      <th>m_finance_app_num</th>\n",
       "      <th>m_video_app_num</th>\n",
       "      <th>m_airplane_app_num</th>\n",
       "      <th>m_train_app_num</th>\n",
       "      <th>m_tour_news_app_num</th>\n",
       "    </tr>\n",
       "  </thead>\n",
       "  <tbody>\n",
       "    <tr>\n",
       "      <th>count</th>\n",
       "      <td>50000.000000</td>\n",
       "      <td>50000.000000</td>\n",
       "      <td>50000.000000</td>\n",
       "      <td>50000.000000</td>\n",
       "      <td>50000.000000</td>\n",
       "      <td>50000.000000</td>\n",
       "      <td>50000.000000</td>\n",
       "      <td>50000.000000</td>\n",
       "      <td>50000.000000</td>\n",
       "      <td>50000.000000</td>\n",
       "      <td>...</td>\n",
       "      <td>50000.000000</td>\n",
       "      <td>50000.000000</td>\n",
       "      <td>50000.000000</td>\n",
       "      <td>50000.00000</td>\n",
       "      <td>50000.000000</td>\n",
       "      <td>50000.000000</td>\n",
       "      <td>50000.00000</td>\n",
       "      <td>50000.000000</td>\n",
       "      <td>50000.00000</td>\n",
       "      <td>50000.000000</td>\n",
       "    </tr>\n",
       "    <tr>\n",
       "      <th>mean</th>\n",
       "      <td>0.992260</td>\n",
       "      <td>37.932380</td>\n",
       "      <td>0.003520</td>\n",
       "      <td>0.048200</td>\n",
       "      <td>0.088800</td>\n",
       "      <td>96.094480</td>\n",
       "      <td>0.702740</td>\n",
       "      <td>54.027936</td>\n",
       "      <td>99.234402</td>\n",
       "      <td>99.842912</td>\n",
       "      <td>...</td>\n",
       "      <td>0.245320</td>\n",
       "      <td>0.476500</td>\n",
       "      <td>0.375340</td>\n",
       "      <td>1173.46996</td>\n",
       "      <td>0.853880</td>\n",
       "      <td>979.229100</td>\n",
       "      <td>3406.12244</td>\n",
       "      <td>0.595100</td>\n",
       "      <td>0.57584</td>\n",
       "      <td>19.672180</td>\n",
       "    </tr>\n",
       "    <tr>\n",
       "      <th>std</th>\n",
       "      <td>0.087637</td>\n",
       "      <td>11.636829</td>\n",
       "      <td>0.059226</td>\n",
       "      <td>0.214191</td>\n",
       "      <td>0.284458</td>\n",
       "      <td>59.048962</td>\n",
       "      <td>0.457057</td>\n",
       "      <td>62.614124</td>\n",
       "      <td>61.245686</td>\n",
       "      <td>65.301379</td>\n",
       "      <td>...</td>\n",
       "      <td>0.430281</td>\n",
       "      <td>0.499452</td>\n",
       "      <td>0.484215</td>\n",
       "      <td>4586.71334</td>\n",
       "      <td>28.848873</td>\n",
       "      <td>2924.008879</td>\n",
       "      <td>9919.40536</td>\n",
       "      <td>13.025441</td>\n",
       "      <td>8.20404</td>\n",
       "      <td>408.041808</td>\n",
       "    </tr>\n",
       "    <tr>\n",
       "      <th>min</th>\n",
       "      <td>0.000000</td>\n",
       "      <td>0.000000</td>\n",
       "      <td>0.000000</td>\n",
       "      <td>0.000000</td>\n",
       "      <td>0.000000</td>\n",
       "      <td>1.000000</td>\n",
       "      <td>0.000000</td>\n",
       "      <td>0.000000</td>\n",
       "      <td>0.000000</td>\n",
       "      <td>0.000000</td>\n",
       "      <td>...</td>\n",
       "      <td>0.000000</td>\n",
       "      <td>0.000000</td>\n",
       "      <td>0.000000</td>\n",
       "      <td>0.00000</td>\n",
       "      <td>0.000000</td>\n",
       "      <td>0.000000</td>\n",
       "      <td>0.00000</td>\n",
       "      <td>0.000000</td>\n",
       "      <td>0.00000</td>\n",
       "      <td>0.000000</td>\n",
       "    </tr>\n",
       "    <tr>\n",
       "      <th>25%</th>\n",
       "      <td>1.000000</td>\n",
       "      <td>30.000000</td>\n",
       "      <td>0.000000</td>\n",
       "      <td>0.000000</td>\n",
       "      <td>0.000000</td>\n",
       "      <td>48.000000</td>\n",
       "      <td>0.000000</td>\n",
       "      <td>0.000000</td>\n",
       "      <td>54.450000</td>\n",
       "      <td>53.200000</td>\n",
       "      <td>...</td>\n",
       "      <td>0.000000</td>\n",
       "      <td>0.000000</td>\n",
       "      <td>0.000000</td>\n",
       "      <td>17.00000</td>\n",
       "      <td>0.000000</td>\n",
       "      <td>5.000000</td>\n",
       "      <td>10.00000</td>\n",
       "      <td>0.000000</td>\n",
       "      <td>0.00000</td>\n",
       "      <td>0.000000</td>\n",
       "    </tr>\n",
       "    <tr>\n",
       "      <th>50%</th>\n",
       "      <td>1.000000</td>\n",
       "      <td>36.000000</td>\n",
       "      <td>0.000000</td>\n",
       "      <td>0.000000</td>\n",
       "      <td>0.000000</td>\n",
       "      <td>94.000000</td>\n",
       "      <td>1.000000</td>\n",
       "      <td>49.900000</td>\n",
       "      <td>90.000000</td>\n",
       "      <td>90.000000</td>\n",
       "      <td>...</td>\n",
       "      <td>0.000000</td>\n",
       "      <td>0.000000</td>\n",
       "      <td>0.000000</td>\n",
       "      <td>246.00000</td>\n",
       "      <td>0.000000</td>\n",
       "      <td>263.000000</td>\n",
       "      <td>333.00000</td>\n",
       "      <td>0.000000</td>\n",
       "      <td>0.00000</td>\n",
       "      <td>0.000000</td>\n",
       "    </tr>\n",
       "    <tr>\n",
       "      <th>75%</th>\n",
       "      <td>1.000000</td>\n",
       "      <td>45.000000</td>\n",
       "      <td>0.000000</td>\n",
       "      <td>0.000000</td>\n",
       "      <td>0.000000</td>\n",
       "      <td>139.000000</td>\n",
       "      <td>1.000000</td>\n",
       "      <td>99.800000</td>\n",
       "      <td>132.000000</td>\n",
       "      <td>135.235000</td>\n",
       "      <td>...</td>\n",
       "      <td>0.000000</td>\n",
       "      <td>1.000000</td>\n",
       "      <td>1.000000</td>\n",
       "      <td>935.00000</td>\n",
       "      <td>0.000000</td>\n",
       "      <td>1144.000000</td>\n",
       "      <td>2455.00000</td>\n",
       "      <td>0.000000</td>\n",
       "      <td>0.00000</td>\n",
       "      <td>4.000000</td>\n",
       "    </tr>\n",
       "    <tr>\n",
       "      <th>max</th>\n",
       "      <td>1.000000</td>\n",
       "      <td>108.000000</td>\n",
       "      <td>1.000000</td>\n",
       "      <td>1.000000</td>\n",
       "      <td>1.000000</td>\n",
       "      <td>288.000000</td>\n",
       "      <td>1.000000</td>\n",
       "      <td>1000.000000</td>\n",
       "      <td>1792.740000</td>\n",
       "      <td>2117.010000</td>\n",
       "      <td>...</td>\n",
       "      <td>1.000000</td>\n",
       "      <td>1.000000</td>\n",
       "      <td>1.000000</td>\n",
       "      <td>417536.00000</td>\n",
       "      <td>5462.000000</td>\n",
       "      <td>329767.000000</td>\n",
       "      <td>295210.00000</td>\n",
       "      <td>1645.000000</td>\n",
       "      <td>775.00000</td>\n",
       "      <td>87681.000000</td>\n",
       "    </tr>\n",
       "  </tbody>\n",
       "</table>\n",
       "<p>8 rows × 28 columns</p>\n",
       "</div>"
      ],
      "text/plain": [
       "       is_real_name           age  is_undegraduate  is_blacklist  \\\n",
       "count  50000.000000  50000.000000     50000.000000  50000.000000   \n",
       "mean       0.992260     37.932380         0.003520      0.048200   \n",
       "std        0.087637     11.636829         0.059226      0.214191   \n",
       "min        0.000000      0.000000         0.000000      0.000000   \n",
       "25%        1.000000     30.000000         0.000000      0.000000   \n",
       "50%        1.000000     36.000000         0.000000      0.000000   \n",
       "75%        1.000000     45.000000         0.000000      0.000000   \n",
       "max        1.000000    108.000000         1.000000      1.000000   \n",
       "\n",
       "          is_4G_ill     net_age_m    last_pay_m  last_pay_amt  \\\n",
       "count  50000.000000  50000.000000  50000.000000  50000.000000   \n",
       "mean       0.088800     96.094480      0.702740     54.027936   \n",
       "std        0.284458     59.048962      0.457057     62.614124   \n",
       "min        0.000000      1.000000      0.000000      0.000000   \n",
       "25%        0.000000     48.000000      0.000000      0.000000   \n",
       "50%        0.000000     94.000000      1.000000     49.900000   \n",
       "75%        0.000000    139.000000      1.000000     99.800000   \n",
       "max        1.000000    288.000000      1.000000   1000.000000   \n",
       "\n",
       "       last_6m_avg_consume        m_cost         ...            is_m_movies  \\\n",
       "count         50000.000000  50000.000000         ...           50000.000000   \n",
       "mean             99.234402     99.842912         ...               0.245320   \n",
       "std              61.245686     65.301379         ...               0.430281   \n",
       "min               0.000000      0.000000         ...               0.000000   \n",
       "25%              54.450000     53.200000         ...               0.000000   \n",
       "50%              90.000000     90.000000         ...               0.000000   \n",
       "75%             132.000000    135.235000         ...               0.000000   \n",
       "max            1792.740000   2117.010000         ...               1.000000   \n",
       "\n",
       "          is_m_tour  is_m_pay_gym  m_online_shop_app_num  m_express_app_num  \\\n",
       "count  50000.000000  50000.000000            50000.00000       50000.000000   \n",
       "mean       0.476500      0.375340             1173.46996           0.853880   \n",
       "std        0.499452      0.484215             4586.71334          28.848873   \n",
       "min        0.000000      0.000000                0.00000           0.000000   \n",
       "25%        0.000000      0.000000               17.00000           0.000000   \n",
       "50%        0.000000      0.000000              246.00000           0.000000   \n",
       "75%        1.000000      1.000000              935.00000           0.000000   \n",
       "max        1.000000      1.000000           417536.00000        5462.000000   \n",
       "\n",
       "       m_finance_app_num  m_video_app_num  m_airplane_app_num  \\\n",
       "count       50000.000000      50000.00000        50000.000000   \n",
       "mean          979.229100       3406.12244            0.595100   \n",
       "std          2924.008879       9919.40536           13.025441   \n",
       "min             0.000000          0.00000            0.000000   \n",
       "25%             5.000000         10.00000            0.000000   \n",
       "50%           263.000000        333.00000            0.000000   \n",
       "75%          1144.000000       2455.00000            0.000000   \n",
       "max        329767.000000     295210.00000         1645.000000   \n",
       "\n",
       "       m_train_app_num  m_tour_news_app_num  \n",
       "count      50000.00000         50000.000000  \n",
       "mean           0.57584            19.672180  \n",
       "std            8.20404           408.041808  \n",
       "min            0.00000             0.000000  \n",
       "25%            0.00000             0.000000  \n",
       "50%            0.00000             0.000000  \n",
       "75%            0.00000             4.000000  \n",
       "max          775.00000         87681.000000  \n",
       "\n",
       "[8 rows x 28 columns]"
      ]
     },
     "execution_count": 54,
     "metadata": {},
     "output_type": "execute_result"
    }
   ],
   "source": [
    "test_data = load_data(TEST_DATA, is_train=0)\n",
    "test_data.describe()"
   ]
  },
  {
   "cell_type": "code",
   "execution_count": 106,
   "metadata": {},
   "outputs": [
    {
     "name": "stdout",
     "output_type": "stream",
     "text": [
      "                                 id score\n",
      "0  7171737d49b143d1b38883a39e4a5730   593\n",
      "1  3af0a449d5424488912e8fb2bf4b9faa   563\n",
      "2  eb2cf02e0d5c4d1294dd73e776dbb441   675\n",
      "3  9c0f780ecb254670a11aa9e3f10777c5   664\n",
      "4  d794eed46c1e44f785a575f18b3023a5   660\n",
      "The predict result was written to  F:\\Git\\data\\userprofile\\result\\lin_reg_base_line-v1.csv\n"
     ]
    }
   ],
   "source": [
    "# lin_reg.fit(train_data_prepared[:], train_data_label[:])\n",
    "test_predict(lin_reg, full_pipeline, \"lin_reg_base_line-v1.csv\")"
   ]
  },
  {
   "cell_type": "markdown",
   "metadata": {},
   "source": [
    "## RandomForestRegressor"
   ]
  },
  {
   "cell_type": "code",
   "execution_count": 101,
   "metadata": {},
   "outputs": [],
   "source": [
    "# 交叉验证函数\n",
    "from sklearn.model_selection import ShuffleSplit\n",
    "from sklearn.linear_model import LinearRegression\n",
    "def cross_val(model):\n",
    "    rs = ShuffleSplit(n_splits=5, test_size=.25, random_state=142)\n",
    "    for train_idx, test_idx in rs.split(train_data_prepared):\n",
    "        train_X = train_data_prepared[train_idx]\n",
    "        train_y = train_data_label[train_idx]\n",
    "        test_X = train_data_prepared[test_idx]\n",
    "        test_y = train_data_label[test_idx]\n",
    "    \n",
    "        model.fit(train_X, train_y)\n",
    "        print(\"=====================\")\n",
    "        print(\"train score: \", result_score(train_y, model.predict(train_X)))\n",
    "        print(\"test score: \", result_score(test_y, model.predict(test_X)))\n",
    "#         print(model.predict(test_data_prepared[0].reshape(1, 34)))\n",
    "# lin_reg.fit(train_data_prepared, train_data_label)"
   ]
  },
  {
   "cell_type": "code",
   "execution_count": 102,
   "metadata": {},
   "outputs": [
    {
     "name": "stdout",
     "output_type": "stream",
     "text": [
      "=====================\n",
      "train score:  0.055189185215567864\n",
      "test score:  0.05518606644534846\n",
      "=====================\n",
      "train score:  0.05460063493986359\n",
      "test score:  0.0546705367575167\n",
      "=====================\n",
      "train score:  0.05427483822841717\n",
      "test score:  0.05355909850182348\n"
     ]
    },
    {
     "ename": "KeyboardInterrupt",
     "evalue": "",
     "output_type": "error",
     "traceback": [
      "\u001b[1;31m---------------------------------------------------------------------------\u001b[0m",
      "\u001b[1;31mKeyboardInterrupt\u001b[0m                         Traceback (most recent call last)",
      "\u001b[1;32m<ipython-input-102-53e24f4e658e>\u001b[0m in \u001b[0;36m<module>\u001b[1;34m()\u001b[0m\n\u001b[0;32m      1\u001b[0m \u001b[1;32mfrom\u001b[0m \u001b[0msklearn\u001b[0m\u001b[1;33m.\u001b[0m\u001b[0mensemble\u001b[0m \u001b[1;32mimport\u001b[0m \u001b[0mRandomForestRegressor\u001b[0m\u001b[1;33m\u001b[0m\u001b[0m\n\u001b[0;32m      2\u001b[0m \u001b[0mforest_reg\u001b[0m \u001b[1;33m=\u001b[0m \u001b[0mRandomForestRegressor\u001b[0m\u001b[1;33m(\u001b[0m\u001b[0mn_estimators\u001b[0m\u001b[1;33m=\u001b[0m\u001b[1;36m10\u001b[0m\u001b[1;33m,\u001b[0m \u001b[0mmax_depth\u001b[0m\u001b[1;33m=\u001b[0m\u001b[1;36m5\u001b[0m\u001b[1;33m,\u001b[0m \u001b[0mcriterion\u001b[0m\u001b[1;33m=\u001b[0m\u001b[1;34m\"mae\"\u001b[0m\u001b[1;33m,\u001b[0m \u001b[0mmax_features\u001b[0m\u001b[1;33m=\u001b[0m\u001b[1;34m\"sqrt\"\u001b[0m\u001b[1;33m)\u001b[0m\u001b[1;33m\u001b[0m\u001b[0m\n\u001b[1;32m----> 3\u001b[1;33m \u001b[0mcross_val\u001b[0m\u001b[1;33m(\u001b[0m\u001b[0mforest_reg\u001b[0m\u001b[1;33m)\u001b[0m\u001b[1;33m\u001b[0m\u001b[0m\n\u001b[0m",
      "\u001b[1;32m<ipython-input-101-6060c34f03be>\u001b[0m in \u001b[0;36mcross_val\u001b[1;34m(model)\u001b[0m\n\u001b[0;32m     10\u001b[0m         \u001b[0mtest_y\u001b[0m \u001b[1;33m=\u001b[0m \u001b[0mtrain_data_label\u001b[0m\u001b[1;33m[\u001b[0m\u001b[0mtest_idx\u001b[0m\u001b[1;33m]\u001b[0m\u001b[1;33m\u001b[0m\u001b[0m\n\u001b[0;32m     11\u001b[0m \u001b[1;33m\u001b[0m\u001b[0m\n\u001b[1;32m---> 12\u001b[1;33m         \u001b[0mmodel\u001b[0m\u001b[1;33m.\u001b[0m\u001b[0mfit\u001b[0m\u001b[1;33m(\u001b[0m\u001b[0mtrain_X\u001b[0m\u001b[1;33m,\u001b[0m \u001b[0mtrain_y\u001b[0m\u001b[1;33m)\u001b[0m\u001b[1;33m\u001b[0m\u001b[0m\n\u001b[0m\u001b[0;32m     13\u001b[0m         \u001b[0mprint\u001b[0m\u001b[1;33m(\u001b[0m\u001b[1;34m\"=====================\"\u001b[0m\u001b[1;33m)\u001b[0m\u001b[1;33m\u001b[0m\u001b[0m\n\u001b[0;32m     14\u001b[0m         \u001b[0mprint\u001b[0m\u001b[1;33m(\u001b[0m\u001b[1;34m\"train score: \"\u001b[0m\u001b[1;33m,\u001b[0m \u001b[0mresult_score\u001b[0m\u001b[1;33m(\u001b[0m\u001b[0mtrain_y\u001b[0m\u001b[1;33m,\u001b[0m \u001b[0mmodel\u001b[0m\u001b[1;33m.\u001b[0m\u001b[0mpredict\u001b[0m\u001b[1;33m(\u001b[0m\u001b[0mtrain_X\u001b[0m\u001b[1;33m)\u001b[0m\u001b[1;33m)\u001b[0m\u001b[1;33m)\u001b[0m\u001b[1;33m\u001b[0m\u001b[0m\n",
      "\u001b[1;32mE:\\ProgramPrivate\\Anaconda3\\lib\\site-packages\\sklearn\\ensemble\\forest.py\u001b[0m in \u001b[0;36mfit\u001b[1;34m(self, X, y, sample_weight)\u001b[0m\n\u001b[0;32m    326\u001b[0m                     \u001b[0mt\u001b[0m\u001b[1;33m,\u001b[0m \u001b[0mself\u001b[0m\u001b[1;33m,\u001b[0m \u001b[0mX\u001b[0m\u001b[1;33m,\u001b[0m \u001b[0my\u001b[0m\u001b[1;33m,\u001b[0m \u001b[0msample_weight\u001b[0m\u001b[1;33m,\u001b[0m \u001b[0mi\u001b[0m\u001b[1;33m,\u001b[0m \u001b[0mlen\u001b[0m\u001b[1;33m(\u001b[0m\u001b[0mtrees\u001b[0m\u001b[1;33m)\u001b[0m\u001b[1;33m,\u001b[0m\u001b[1;33m\u001b[0m\u001b[0m\n\u001b[0;32m    327\u001b[0m                     verbose=self.verbose, class_weight=self.class_weight)\n\u001b[1;32m--> 328\u001b[1;33m                 for i, t in enumerate(trees))\n\u001b[0m\u001b[0;32m    329\u001b[0m \u001b[1;33m\u001b[0m\u001b[0m\n\u001b[0;32m    330\u001b[0m             \u001b[1;31m# Collect newly grown trees\u001b[0m\u001b[1;33m\u001b[0m\u001b[1;33m\u001b[0m\u001b[0m\n",
      "\u001b[1;32mE:\\ProgramPrivate\\Anaconda3\\lib\\site-packages\\sklearn\\externals\\joblib\\parallel.py\u001b[0m in \u001b[0;36m__call__\u001b[1;34m(self, iterable)\u001b[0m\n\u001b[0;32m    777\u001b[0m             \u001b[1;31m# was dispatched. In particular this covers the edge\u001b[0m\u001b[1;33m\u001b[0m\u001b[1;33m\u001b[0m\u001b[0m\n\u001b[0;32m    778\u001b[0m             \u001b[1;31m# case of Parallel used with an exhausted iterator.\u001b[0m\u001b[1;33m\u001b[0m\u001b[1;33m\u001b[0m\u001b[0m\n\u001b[1;32m--> 779\u001b[1;33m             \u001b[1;32mwhile\u001b[0m \u001b[0mself\u001b[0m\u001b[1;33m.\u001b[0m\u001b[0mdispatch_one_batch\u001b[0m\u001b[1;33m(\u001b[0m\u001b[0miterator\u001b[0m\u001b[1;33m)\u001b[0m\u001b[1;33m:\u001b[0m\u001b[1;33m\u001b[0m\u001b[0m\n\u001b[0m\u001b[0;32m    780\u001b[0m                 \u001b[0mself\u001b[0m\u001b[1;33m.\u001b[0m\u001b[0m_iterating\u001b[0m \u001b[1;33m=\u001b[0m \u001b[1;32mTrue\u001b[0m\u001b[1;33m\u001b[0m\u001b[0m\n\u001b[0;32m    781\u001b[0m             \u001b[1;32melse\u001b[0m\u001b[1;33m:\u001b[0m\u001b[1;33m\u001b[0m\u001b[0m\n",
      "\u001b[1;32mE:\\ProgramPrivate\\Anaconda3\\lib\\site-packages\\sklearn\\externals\\joblib\\parallel.py\u001b[0m in \u001b[0;36mdispatch_one_batch\u001b[1;34m(self, iterator)\u001b[0m\n\u001b[0;32m    623\u001b[0m                 \u001b[1;32mreturn\u001b[0m \u001b[1;32mFalse\u001b[0m\u001b[1;33m\u001b[0m\u001b[0m\n\u001b[0;32m    624\u001b[0m             \u001b[1;32melse\u001b[0m\u001b[1;33m:\u001b[0m\u001b[1;33m\u001b[0m\u001b[0m\n\u001b[1;32m--> 625\u001b[1;33m                 \u001b[0mself\u001b[0m\u001b[1;33m.\u001b[0m\u001b[0m_dispatch\u001b[0m\u001b[1;33m(\u001b[0m\u001b[0mtasks\u001b[0m\u001b[1;33m)\u001b[0m\u001b[1;33m\u001b[0m\u001b[0m\n\u001b[0m\u001b[0;32m    626\u001b[0m                 \u001b[1;32mreturn\u001b[0m \u001b[1;32mTrue\u001b[0m\u001b[1;33m\u001b[0m\u001b[0m\n\u001b[0;32m    627\u001b[0m \u001b[1;33m\u001b[0m\u001b[0m\n",
      "\u001b[1;32mE:\\ProgramPrivate\\Anaconda3\\lib\\site-packages\\sklearn\\externals\\joblib\\parallel.py\u001b[0m in \u001b[0;36m_dispatch\u001b[1;34m(self, batch)\u001b[0m\n\u001b[0;32m    586\u001b[0m         \u001b[0mdispatch_timestamp\u001b[0m \u001b[1;33m=\u001b[0m \u001b[0mtime\u001b[0m\u001b[1;33m.\u001b[0m\u001b[0mtime\u001b[0m\u001b[1;33m(\u001b[0m\u001b[1;33m)\u001b[0m\u001b[1;33m\u001b[0m\u001b[0m\n\u001b[0;32m    587\u001b[0m         \u001b[0mcb\u001b[0m \u001b[1;33m=\u001b[0m \u001b[0mBatchCompletionCallBack\u001b[0m\u001b[1;33m(\u001b[0m\u001b[0mdispatch_timestamp\u001b[0m\u001b[1;33m,\u001b[0m \u001b[0mlen\u001b[0m\u001b[1;33m(\u001b[0m\u001b[0mbatch\u001b[0m\u001b[1;33m)\u001b[0m\u001b[1;33m,\u001b[0m \u001b[0mself\u001b[0m\u001b[1;33m)\u001b[0m\u001b[1;33m\u001b[0m\u001b[0m\n\u001b[1;32m--> 588\u001b[1;33m         \u001b[0mjob\u001b[0m \u001b[1;33m=\u001b[0m \u001b[0mself\u001b[0m\u001b[1;33m.\u001b[0m\u001b[0m_backend\u001b[0m\u001b[1;33m.\u001b[0m\u001b[0mapply_async\u001b[0m\u001b[1;33m(\u001b[0m\u001b[0mbatch\u001b[0m\u001b[1;33m,\u001b[0m \u001b[0mcallback\u001b[0m\u001b[1;33m=\u001b[0m\u001b[0mcb\u001b[0m\u001b[1;33m)\u001b[0m\u001b[1;33m\u001b[0m\u001b[0m\n\u001b[0m\u001b[0;32m    589\u001b[0m         \u001b[0mself\u001b[0m\u001b[1;33m.\u001b[0m\u001b[0m_jobs\u001b[0m\u001b[1;33m.\u001b[0m\u001b[0mappend\u001b[0m\u001b[1;33m(\u001b[0m\u001b[0mjob\u001b[0m\u001b[1;33m)\u001b[0m\u001b[1;33m\u001b[0m\u001b[0m\n\u001b[0;32m    590\u001b[0m \u001b[1;33m\u001b[0m\u001b[0m\n",
      "\u001b[1;32mE:\\ProgramPrivate\\Anaconda3\\lib\\site-packages\\sklearn\\externals\\joblib\\_parallel_backends.py\u001b[0m in \u001b[0;36mapply_async\u001b[1;34m(self, func, callback)\u001b[0m\n\u001b[0;32m    109\u001b[0m     \u001b[1;32mdef\u001b[0m \u001b[0mapply_async\u001b[0m\u001b[1;33m(\u001b[0m\u001b[0mself\u001b[0m\u001b[1;33m,\u001b[0m \u001b[0mfunc\u001b[0m\u001b[1;33m,\u001b[0m \u001b[0mcallback\u001b[0m\u001b[1;33m=\u001b[0m\u001b[1;32mNone\u001b[0m\u001b[1;33m)\u001b[0m\u001b[1;33m:\u001b[0m\u001b[1;33m\u001b[0m\u001b[0m\n\u001b[0;32m    110\u001b[0m         \u001b[1;34m\"\"\"Schedule a func to be run\"\"\"\u001b[0m\u001b[1;33m\u001b[0m\u001b[0m\n\u001b[1;32m--> 111\u001b[1;33m         \u001b[0mresult\u001b[0m \u001b[1;33m=\u001b[0m \u001b[0mImmediateResult\u001b[0m\u001b[1;33m(\u001b[0m\u001b[0mfunc\u001b[0m\u001b[1;33m)\u001b[0m\u001b[1;33m\u001b[0m\u001b[0m\n\u001b[0m\u001b[0;32m    112\u001b[0m         \u001b[1;32mif\u001b[0m \u001b[0mcallback\u001b[0m\u001b[1;33m:\u001b[0m\u001b[1;33m\u001b[0m\u001b[0m\n\u001b[0;32m    113\u001b[0m             \u001b[0mcallback\u001b[0m\u001b[1;33m(\u001b[0m\u001b[0mresult\u001b[0m\u001b[1;33m)\u001b[0m\u001b[1;33m\u001b[0m\u001b[0m\n",
      "\u001b[1;32mE:\\ProgramPrivate\\Anaconda3\\lib\\site-packages\\sklearn\\externals\\joblib\\_parallel_backends.py\u001b[0m in \u001b[0;36m__init__\u001b[1;34m(self, batch)\u001b[0m\n\u001b[0;32m    330\u001b[0m         \u001b[1;31m# Don't delay the application, to avoid keeping the input\u001b[0m\u001b[1;33m\u001b[0m\u001b[1;33m\u001b[0m\u001b[0m\n\u001b[0;32m    331\u001b[0m         \u001b[1;31m# arguments in memory\u001b[0m\u001b[1;33m\u001b[0m\u001b[1;33m\u001b[0m\u001b[0m\n\u001b[1;32m--> 332\u001b[1;33m         \u001b[0mself\u001b[0m\u001b[1;33m.\u001b[0m\u001b[0mresults\u001b[0m \u001b[1;33m=\u001b[0m \u001b[0mbatch\u001b[0m\u001b[1;33m(\u001b[0m\u001b[1;33m)\u001b[0m\u001b[1;33m\u001b[0m\u001b[0m\n\u001b[0m\u001b[0;32m    333\u001b[0m \u001b[1;33m\u001b[0m\u001b[0m\n\u001b[0;32m    334\u001b[0m     \u001b[1;32mdef\u001b[0m \u001b[0mget\u001b[0m\u001b[1;33m(\u001b[0m\u001b[0mself\u001b[0m\u001b[1;33m)\u001b[0m\u001b[1;33m:\u001b[0m\u001b[1;33m\u001b[0m\u001b[0m\n",
      "\u001b[1;32mE:\\ProgramPrivate\\Anaconda3\\lib\\site-packages\\sklearn\\externals\\joblib\\parallel.py\u001b[0m in \u001b[0;36m__call__\u001b[1;34m(self)\u001b[0m\n\u001b[0;32m    129\u001b[0m \u001b[1;33m\u001b[0m\u001b[0m\n\u001b[0;32m    130\u001b[0m     \u001b[1;32mdef\u001b[0m \u001b[0m__call__\u001b[0m\u001b[1;33m(\u001b[0m\u001b[0mself\u001b[0m\u001b[1;33m)\u001b[0m\u001b[1;33m:\u001b[0m\u001b[1;33m\u001b[0m\u001b[0m\n\u001b[1;32m--> 131\u001b[1;33m         \u001b[1;32mreturn\u001b[0m \u001b[1;33m[\u001b[0m\u001b[0mfunc\u001b[0m\u001b[1;33m(\u001b[0m\u001b[1;33m*\u001b[0m\u001b[0margs\u001b[0m\u001b[1;33m,\u001b[0m \u001b[1;33m**\u001b[0m\u001b[0mkwargs\u001b[0m\u001b[1;33m)\u001b[0m \u001b[1;32mfor\u001b[0m \u001b[0mfunc\u001b[0m\u001b[1;33m,\u001b[0m \u001b[0margs\u001b[0m\u001b[1;33m,\u001b[0m \u001b[0mkwargs\u001b[0m \u001b[1;32min\u001b[0m \u001b[0mself\u001b[0m\u001b[1;33m.\u001b[0m\u001b[0mitems\u001b[0m\u001b[1;33m]\u001b[0m\u001b[1;33m\u001b[0m\u001b[0m\n\u001b[0m\u001b[0;32m    132\u001b[0m \u001b[1;33m\u001b[0m\u001b[0m\n\u001b[0;32m    133\u001b[0m     \u001b[1;32mdef\u001b[0m \u001b[0m__len__\u001b[0m\u001b[1;33m(\u001b[0m\u001b[0mself\u001b[0m\u001b[1;33m)\u001b[0m\u001b[1;33m:\u001b[0m\u001b[1;33m\u001b[0m\u001b[0m\n",
      "\u001b[1;32mE:\\ProgramPrivate\\Anaconda3\\lib\\site-packages\\sklearn\\externals\\joblib\\parallel.py\u001b[0m in \u001b[0;36m<listcomp>\u001b[1;34m(.0)\u001b[0m\n\u001b[0;32m    129\u001b[0m \u001b[1;33m\u001b[0m\u001b[0m\n\u001b[0;32m    130\u001b[0m     \u001b[1;32mdef\u001b[0m \u001b[0m__call__\u001b[0m\u001b[1;33m(\u001b[0m\u001b[0mself\u001b[0m\u001b[1;33m)\u001b[0m\u001b[1;33m:\u001b[0m\u001b[1;33m\u001b[0m\u001b[0m\n\u001b[1;32m--> 131\u001b[1;33m         \u001b[1;32mreturn\u001b[0m \u001b[1;33m[\u001b[0m\u001b[0mfunc\u001b[0m\u001b[1;33m(\u001b[0m\u001b[1;33m*\u001b[0m\u001b[0margs\u001b[0m\u001b[1;33m,\u001b[0m \u001b[1;33m**\u001b[0m\u001b[0mkwargs\u001b[0m\u001b[1;33m)\u001b[0m \u001b[1;32mfor\u001b[0m \u001b[0mfunc\u001b[0m\u001b[1;33m,\u001b[0m \u001b[0margs\u001b[0m\u001b[1;33m,\u001b[0m \u001b[0mkwargs\u001b[0m \u001b[1;32min\u001b[0m \u001b[0mself\u001b[0m\u001b[1;33m.\u001b[0m\u001b[0mitems\u001b[0m\u001b[1;33m]\u001b[0m\u001b[1;33m\u001b[0m\u001b[0m\n\u001b[0m\u001b[0;32m    132\u001b[0m \u001b[1;33m\u001b[0m\u001b[0m\n\u001b[0;32m    133\u001b[0m     \u001b[1;32mdef\u001b[0m \u001b[0m__len__\u001b[0m\u001b[1;33m(\u001b[0m\u001b[0mself\u001b[0m\u001b[1;33m)\u001b[0m\u001b[1;33m:\u001b[0m\u001b[1;33m\u001b[0m\u001b[0m\n",
      "\u001b[1;32mE:\\ProgramPrivate\\Anaconda3\\lib\\site-packages\\sklearn\\ensemble\\forest.py\u001b[0m in \u001b[0;36m_parallel_build_trees\u001b[1;34m(tree, forest, X, y, sample_weight, tree_idx, n_trees, verbose, class_weight)\u001b[0m\n\u001b[0;32m    119\u001b[0m             \u001b[0mcurr_sample_weight\u001b[0m \u001b[1;33m*=\u001b[0m \u001b[0mcompute_sample_weight\u001b[0m\u001b[1;33m(\u001b[0m\u001b[1;34m'balanced'\u001b[0m\u001b[1;33m,\u001b[0m \u001b[0my\u001b[0m\u001b[1;33m,\u001b[0m \u001b[0mindices\u001b[0m\u001b[1;33m)\u001b[0m\u001b[1;33m\u001b[0m\u001b[0m\n\u001b[0;32m    120\u001b[0m \u001b[1;33m\u001b[0m\u001b[0m\n\u001b[1;32m--> 121\u001b[1;33m         \u001b[0mtree\u001b[0m\u001b[1;33m.\u001b[0m\u001b[0mfit\u001b[0m\u001b[1;33m(\u001b[0m\u001b[0mX\u001b[0m\u001b[1;33m,\u001b[0m \u001b[0my\u001b[0m\u001b[1;33m,\u001b[0m \u001b[0msample_weight\u001b[0m\u001b[1;33m=\u001b[0m\u001b[0mcurr_sample_weight\u001b[0m\u001b[1;33m,\u001b[0m \u001b[0mcheck_input\u001b[0m\u001b[1;33m=\u001b[0m\u001b[1;32mFalse\u001b[0m\u001b[1;33m)\u001b[0m\u001b[1;33m\u001b[0m\u001b[0m\n\u001b[0m\u001b[0;32m    122\u001b[0m     \u001b[1;32melse\u001b[0m\u001b[1;33m:\u001b[0m\u001b[1;33m\u001b[0m\u001b[0m\n\u001b[0;32m    123\u001b[0m         \u001b[0mtree\u001b[0m\u001b[1;33m.\u001b[0m\u001b[0mfit\u001b[0m\u001b[1;33m(\u001b[0m\u001b[0mX\u001b[0m\u001b[1;33m,\u001b[0m \u001b[0my\u001b[0m\u001b[1;33m,\u001b[0m \u001b[0msample_weight\u001b[0m\u001b[1;33m=\u001b[0m\u001b[0msample_weight\u001b[0m\u001b[1;33m,\u001b[0m \u001b[0mcheck_input\u001b[0m\u001b[1;33m=\u001b[0m\u001b[1;32mFalse\u001b[0m\u001b[1;33m)\u001b[0m\u001b[1;33m\u001b[0m\u001b[0m\n",
      "\u001b[1;32mE:\\ProgramPrivate\\Anaconda3\\lib\\site-packages\\sklearn\\tree\\tree.py\u001b[0m in \u001b[0;36mfit\u001b[1;34m(self, X, y, sample_weight, check_input, X_idx_sorted)\u001b[0m\n\u001b[0;32m   1122\u001b[0m             \u001b[0msample_weight\u001b[0m\u001b[1;33m=\u001b[0m\u001b[0msample_weight\u001b[0m\u001b[1;33m,\u001b[0m\u001b[1;33m\u001b[0m\u001b[0m\n\u001b[0;32m   1123\u001b[0m             \u001b[0mcheck_input\u001b[0m\u001b[1;33m=\u001b[0m\u001b[0mcheck_input\u001b[0m\u001b[1;33m,\u001b[0m\u001b[1;33m\u001b[0m\u001b[0m\n\u001b[1;32m-> 1124\u001b[1;33m             X_idx_sorted=X_idx_sorted)\n\u001b[0m\u001b[0;32m   1125\u001b[0m         \u001b[1;32mreturn\u001b[0m \u001b[0mself\u001b[0m\u001b[1;33m\u001b[0m\u001b[0m\n\u001b[0;32m   1126\u001b[0m \u001b[1;33m\u001b[0m\u001b[0m\n",
      "\u001b[1;32mE:\\ProgramPrivate\\Anaconda3\\lib\\site-packages\\sklearn\\tree\\tree.py\u001b[0m in \u001b[0;36mfit\u001b[1;34m(self, X, y, sample_weight, check_input, X_idx_sorted)\u001b[0m\n\u001b[0;32m    360\u001b[0m                                            min_impurity_split)\n\u001b[0;32m    361\u001b[0m \u001b[1;33m\u001b[0m\u001b[0m\n\u001b[1;32m--> 362\u001b[1;33m         \u001b[0mbuilder\u001b[0m\u001b[1;33m.\u001b[0m\u001b[0mbuild\u001b[0m\u001b[1;33m(\u001b[0m\u001b[0mself\u001b[0m\u001b[1;33m.\u001b[0m\u001b[0mtree_\u001b[0m\u001b[1;33m,\u001b[0m \u001b[0mX\u001b[0m\u001b[1;33m,\u001b[0m \u001b[0my\u001b[0m\u001b[1;33m,\u001b[0m \u001b[0msample_weight\u001b[0m\u001b[1;33m,\u001b[0m \u001b[0mX_idx_sorted\u001b[0m\u001b[1;33m)\u001b[0m\u001b[1;33m\u001b[0m\u001b[0m\n\u001b[0m\u001b[0;32m    363\u001b[0m \u001b[1;33m\u001b[0m\u001b[0m\n\u001b[0;32m    364\u001b[0m         \u001b[1;32mif\u001b[0m \u001b[0mself\u001b[0m\u001b[1;33m.\u001b[0m\u001b[0mn_outputs_\u001b[0m \u001b[1;33m==\u001b[0m \u001b[1;36m1\u001b[0m\u001b[1;33m:\u001b[0m\u001b[1;33m\u001b[0m\u001b[0m\n",
      "\u001b[1;31mKeyboardInterrupt\u001b[0m: "
     ]
    }
   ],
   "source": [
    "from sklearn.ensemble import RandomForestRegressor\n",
    "forest_reg = RandomForestRegressor(n_estimators=10, max_depth=5, criterion=\"mae\", max_features=\"sqrt\")\n",
    "cross_val(forest_reg)\n"
   ]
  },
  {
   "cell_type": "code",
   "execution_count": 234,
   "metadata": {},
   "outputs": [
    {
     "data": {
      "text/plain": [
       "[(0.23693658907805087, 'm_social_persons'),\n",
       " (0.22095921361523554, 'net_age_m'),\n",
       " (0.16788605991316957, 'last_6m_avg_consume'),\n",
       " (0.10388925564095801, 'm_cost'),\n",
       " (0.046041753690729784, 'last_pay_amt'),\n",
       " (0.04218903730282465, 'm_online_shop_app_num'),\n",
       " (0.041821606888206464, 'sensitivity_5'),\n",
       " (0.024992386674860458, 'm_video_app_num'),\n",
       " (0.021291865214290072, 'charge_sensitivity'),\n",
       " (0.021087565282657966, 'age'),\n",
       " (0.017157385528831785, 'is_m_pay_gym'),\n",
       " (0.01135232596413031, 'm_balance'),\n",
       " (0.010945174364198175, 'last_pay_m'),\n",
       " (0.008868054503942346, 'm_finance_app_num'),\n",
       " (0.007535641886377453, 'is_m_tour'),\n",
       " (0.005212407782099279, 'is_4G_ill'),\n",
       " (0.004935192445695985, 'last_3m_mavg_mall'),\n",
       " (0.0018478368096928731, 'is_arrears'),\n",
       " (0.0017372679958241586, 'm_tour_news_app_num'),\n",
       " (0.001568286342232617, 'is_m_movies'),\n",
       " (0.000642534850473796, 'is_blacklist'),\n",
       " (0.0005052293718383359, 'sensitivity_3'),\n",
       " (0.0002471720377775958, 'is_offen_mall'),\n",
       " (0.00021309050995974022, 'm_train_app_num'),\n",
       " (4.154577070755127e-05, 'sensitivity_2'),\n",
       " (3.985948203931738e-05, 'm_express_app_num'),\n",
       " (2.354587558448194e-05, 'm_airplane_app_num'),\n",
       " (1.7869148691419902e-05, 'sensitivity_4'),\n",
       " (1.4246028919438696e-05, 'is_real_name'),\n",
       " (0.0, 'sensitivity_1'),\n",
       " (0.0, 'sensitivity_0'),\n",
       " (0.0, 'is_undegraduate'),\n",
       " (0.0, 'is_m_WanDa'),\n",
       " (0.0, 'is_m_Sam')]"
      ]
     },
     "execution_count": 234,
     "metadata": {},
     "output_type": "execute_result"
    }
   ],
   "source": [
    "feature_importances = forest_reg.feature_importances_\n",
    "cat_one_hot_attribs = [\"sensitivity_0\", \"sensitivity_1\", \"sensitivity_2\", \"sensitivity_3\", \"sensitivity_4\", \"sensitivity_5\"]\n",
    "attributes = num_attribs + binary_attribs + cat_one_hot_attribs\n",
    "sorted(zip(feature_importances,attributes), reverse=True)"
   ]
  },
  {
   "cell_type": "code",
   "execution_count": 235,
   "metadata": {},
   "outputs": [
    {
     "data": {
      "text/plain": [
       "score                    1.000000\n",
       "net_age_m                0.546879\n",
       "last_6m_avg_consume      0.493738\n",
       "m_social_persons         0.477296\n",
       "m_cost                   0.443053\n",
       "last_pay_amt             0.333528\n",
       "is_m_tour                0.270853\n",
       "is_m_pay_gym             0.233045\n",
       "last_pay_m               0.215241\n",
       "last_3m_mavg_mall        0.197801\n",
       "is_m_movies              0.165391\n",
       "m_finance_app_num        0.113797\n",
       "is_offen_mall            0.113087\n",
       "is_blacklist             0.110556\n",
       "is_arrears               0.089809\n",
       "m_balance                0.081092\n",
       "m_video_app_num          0.064858\n",
       "is_m_Sam                 0.054115\n",
       "is_m_WanDa               0.051379\n",
       "age                      0.037770\n",
       "m_online_shop_app_num    0.033498\n",
       "m_train_app_num          0.032556\n",
       "is_real_name             0.028925\n",
       "is_undegraduate          0.025314\n",
       "m_tour_news_app_num      0.020779\n",
       "m_airplane_app_num       0.014363\n",
       "m_express_app_num        0.001055\n",
       "is_4G_ill               -0.147157\n",
       "charge_sensitivity      -0.239397\n",
       "Name: score, dtype: float64"
      ]
     },
     "execution_count": 235,
     "metadata": {},
     "output_type": "execute_result"
    }
   ],
   "source": [
    "traind_data_corr[\"score\"].sort_values(ascending=False)"
   ]
  },
  {
   "cell_type": "code",
   "execution_count": null,
   "metadata": {},
   "outputs": [],
   "source": []
  }
 ],
 "metadata": {
  "kernelspec": {
   "display_name": "Python 3",
   "language": "python",
   "name": "python3"
  },
  "language_info": {
   "codemirror_mode": {
    "name": "ipython",
    "version": 3
   },
   "file_extension": ".py",
   "mimetype": "text/x-python",
   "name": "python",
   "nbconvert_exporter": "python",
   "pygments_lexer": "ipython3",
   "version": "3.6.5"
  }
 },
 "nbformat": 4,
 "nbformat_minor": 2
}
